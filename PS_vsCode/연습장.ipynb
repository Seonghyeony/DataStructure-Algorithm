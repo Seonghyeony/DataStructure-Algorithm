{
 "cells": [
  {
   "cell_type": "code",
   "execution_count": 42,
   "metadata": {},
   "outputs": [
    {
     "data": {
      "text/plain": [
       "[(1, 2), (1, 3), (1, 4), (2, 3), (2, 4), (3, 4)]"
      ]
     },
     "execution_count": 42,
     "metadata": {},
     "output_type": "execute_result"
    }
   ],
   "source": [
    "a = list(combinations(items, 2))\n",
    "a"
   ]
  },
  {
   "cell_type": "code",
   "execution_count": 43,
   "metadata": {},
   "outputs": [
    {
     "data": {
      "text/plain": [
       "0"
      ]
     },
     "execution_count": 43,
     "metadata": {},
     "output_type": "execute_result"
    }
   ],
   "source": [
    "b = [1, 2, 3]\n",
    "b.index(1)"
   ]
  },
  {
   "cell_type": "code",
   "execution_count": 44,
   "metadata": {
    "scrolled": true
   },
   "outputs": [
    {
     "data": {
      "text/plain": [
       "1"
      ]
     },
     "execution_count": 44,
     "metadata": {},
     "output_type": "execute_result"
    }
   ],
   "source": [
    "b.count(1)"
   ]
  },
  {
   "cell_type": "code",
   "execution_count": 25,
   "metadata": {},
   "outputs": [
    {
     "data": {
      "text/plain": [
       "[[1, 2, 4], [1, 2, 6], [2, 3, 1], [2, 3, 2], [2, 3, 3]]"
      ]
     },
     "execution_count": 25,
     "metadata": {},
     "output_type": "execute_result"
    }
   ],
   "source": [
    "sorted(queue)"
   ]
  },
  {
   "cell_type": "code",
   "execution_count": 30,
   "metadata": {},
   "outputs": [
    {
     "data": {
      "text/plain": [
       "[[[], [], [], []], [[], [], [], []], [[], [], [], []], [[], [], [], []]]"
      ]
     },
     "execution_count": 30,
     "metadata": {},
     "output_type": "execute_result"
    }
   ],
   "source": [
    "tree = [[[] for _ in range(4)] for _ in range(4)]\n",
    "tree"
   ]
  },
  {
   "cell_type": "code",
   "execution_count": 29,
   "metadata": {},
   "outputs": [],
   "source": [
    "if not tree:\n",
    "    print(1)"
   ]
  },
  {
   "cell_type": "code",
   "execution_count": 31,
   "metadata": {},
   "outputs": [
    {
     "data": {
      "text/plain": [
       "(3, 1)"
      ]
     },
     "execution_count": 31,
     "metadata": {},
     "output_type": "execute_result"
    }
   ],
   "source": [
    "a = { (1, 2): (3, 1) }\n",
    "a[(1, 2)]"
   ]
  },
  {
   "cell_type": "code",
   "execution_count": 32,
   "metadata": {},
   "outputs": [],
   "source": [
    "del a[(1, 2)]"
   ]
  },
  {
   "cell_type": "code",
   "execution_count": 33,
   "metadata": {},
   "outputs": [
    {
     "data": {
      "text/plain": [
       "{}"
      ]
     },
     "execution_count": 33,
     "metadata": {},
     "output_type": "execute_result"
    }
   ],
   "source": [
    "a"
   ]
  },
  {
   "cell_type": "code",
   "execution_count": 35,
   "metadata": {},
   "outputs": [],
   "source": [
    "a = [[1, 2, 3], [], [], []]"
   ]
  },
  {
   "cell_type": "code",
   "execution_count": 39,
   "metadata": {},
   "outputs": [
    {
     "name": "stdout",
     "output_type": "stream",
     "text": [
      "[1, 2, 3]\n",
      "[]\n",
      "[]\n",
      "[]\n"
     ]
    }
   ],
   "source": [
    "for i in a:\n",
    "    print(i)"
   ]
  },
  {
   "cell_type": "code",
   "execution_count": 40,
   "metadata": {},
   "outputs": [
    {
     "data": {
      "text/plain": [
       "[[], [], [], []]"
      ]
     },
     "execution_count": 40,
     "metadata": {},
     "output_type": "execute_result"
    }
   ],
   "source": [
    "shark = [[] for _ in range(4)]\n",
    "shark"
   ]
  },
  {
   "cell_type": "code",
   "execution_count": 43,
   "metadata": {},
   "outputs": [],
   "source": [
    "shark[1] = [1, 2]"
   ]
  },
  {
   "cell_type": "code",
   "execution_count": 44,
   "metadata": {},
   "outputs": [
    {
     "data": {
      "text/plain": [
       "[[], [1, 2], [], []]"
      ]
     },
     "execution_count": 44,
     "metadata": {},
     "output_type": "execute_result"
    }
   ],
   "source": [
    "shark"
   ]
  },
  {
   "cell_type": "code",
   "execution_count": 47,
   "metadata": {},
   "outputs": [],
   "source": [
    "a = [[1, 2, 3, 4], [5, 6, 7, 8]]"
   ]
  },
  {
   "cell_type": "code",
   "execution_count": 123,
   "metadata": {},
   "outputs": [
    {
     "data": {
      "text/plain": [
       "[[2, 3, 1]]"
      ]
     },
     "execution_count": 123,
     "metadata": {},
     "output_type": "execute_result"
    }
   ],
   "source": [
    "tmp"
   ]
  },
  {
   "cell_type": "code",
   "execution_count": 143,
   "metadata": {},
   "outputs": [],
   "source": [
    "a = [[1, 2], [2, 3], [3, 4]]"
   ]
  },
  {
   "cell_type": "code",
   "execution_count": 145,
   "metadata": {},
   "outputs": [],
   "source": [
    "a.remove([1, 2])"
   ]
  },
  {
   "cell_type": "code",
   "execution_count": 146,
   "metadata": {},
   "outputs": [
    {
     "data": {
      "text/plain": [
       "[[2, 3], [3, 4]]"
      ]
     },
     "execution_count": 146,
     "metadata": {},
     "output_type": "execute_result"
    }
   ],
   "source": [
    "a"
   ]
  },
  {
   "cell_type": "code",
   "execution_count": 1,
   "metadata": {},
   "outputs": [],
   "source": [
    "visit = {}"
   ]
  },
  {
   "cell_type": "code",
   "execution_count": 4,
   "metadata": {},
   "outputs": [
    {
     "name": "stdout",
     "output_type": "stream",
     "text": [
      "1\n"
     ]
    }
   ],
   "source": [
    "if visit.get((1, 1)) is None:\n",
    "    print(1)"
   ]
  },
  {
   "cell_type": "code",
   "execution_count": 10,
   "metadata": {},
   "outputs": [],
   "source": [
    "board = [[] for _ in range(4)]"
   ]
  },
  {
   "cell_type": "code",
   "execution_count": 11,
   "metadata": {},
   "outputs": [],
   "source": [
    "board[0].append([1, 2])"
   ]
  },
  {
   "cell_type": "code",
   "execution_count": 12,
   "metadata": {},
   "outputs": [
    {
     "data": {
      "text/plain": [
       "[[[1, 2]], [], [], []]"
      ]
     },
     "execution_count": 12,
     "metadata": {},
     "output_type": "execute_result"
    }
   ],
   "source": [
    "board"
   ]
  },
  {
   "cell_type": "code",
   "execution_count": null,
   "metadata": {},
   "outputs": [],
   "source": [
    "\n",
    "dx = [0, -1, 1, 0, 0]\n",
    "dy = [0, 0, 0, -1, 1]\n",
    "\n",
    "n, m, k = map(int, input().split())\n",
    "\n",
    "a, shark = [], [[] for _ in range(m)]\n",
    "for i in range(n):\n",
    "    a.append(list(map(int, input().split())))\n",
    "    for j in range(n):\n",
    "        if a[i][j]:\n",
    "            shark[a[i][j]-1].extend([i, j])\n",
    "            a[i][j] = [a[i][j], k]\n",
    "\n",
    "d = list(map(int, input().split()))\n",
    "for i in range(m):\n",
    "    shark[i].append(d[i])\n",
    "\n",
    "dir = [[] for _ in range(m)]\n",
    "idx = -1\n",
    "for i in range(4*m):\n",
    "    if i % 4 == 0:\n",
    "        idx += 1\n",
    "    dir[idx].append(list(map(int, input().split())))\n",
    "\n",
    "ans = 0\n",
    "while True:\n",
    "    ans += 1\n",
    "    if ans == 1001:\n",
    "        print(-1)\n",
    "        break\n",
    "\n",
    "    check = [[0 for _ in range(n)] for _ in range(n)]\n",
    "    for i in range(m):\n",
    "        if shark[i] != 0:\n",
    "            x, y, d, flag = shark[i][0], shark[i][1], shark[i][2], 0\n",
    "            for j in range(4):\n",
    "                ndir = dir[i][d-1][j]\n",
    "                nx, ny = x + dx[ndir], y + dy[ndir]\n",
    "                if 0 <= nx < n and 0 <= ny < n:\n",
    "                    if a[nx][ny] == 0:\n",
    "                        flag = 1\n",
    "                        break\n",
    "            \n",
    "            if flag == 0:\n",
    "                for j in range(4):\n",
    "                    ndir = dir[i][d-1][j]\n",
    "                    nx, ny = x + dx[ndir], y + dy[ndir]\n",
    "                    if 0 <= nx < n and 0 <= ny < n:\n",
    "                        if a[nx][ny][0] == i + 1:\n",
    "                            break\n",
    "            \n",
    "            # check[nx][ny]에 이미 값이 있고 i + 1 보다 작다면 현재 상어를 없앤다.\n",
    "            # 반대의 경우에는 이미 자리잡고 있던 상어를 없앤다.\n",
    "            if check[nx][ny]:\n",
    "                if check[nx][ny] < i + 1:\n",
    "                    shark[i] = 0\n",
    "                else:\n",
    "                    shark[check[nx][ny]-1] = 0\n",
    "            else:\n",
    "                check[nx][ny] = i + 1\n",
    "                shark[i] = [nx, ny, ndir]\n",
    "\n",
    "    for i in range(n):\n",
    "        for j in range(n):\n",
    "            if a[i][j]:\n",
    "                a[i][j][1] -= 1\n",
    "                if a[i][j][1] == 0:\n",
    "                    a[i][j] = 0\n",
    "    \n",
    "    for i in range(m):\n",
    "        if shark[i]:\n",
    "            x, y = shark[i][0], shark[i][1]\n",
    "            a[x][y] = [i+1, k]\n",
    "    \n",
    "    if shark.count(0) == m-1:\n",
    "        print(ans)\n",
    "        break"
   ]
  },
  {
   "cell_type": "code",
   "execution_count": null,
   "metadata": {},
   "outputs": [],
   "source": []
  },
  {
   "cell_type": "code",
   "execution_count": null,
   "metadata": {},
   "outputs": [],
   "source": []
  },
  {
   "cell_type": "code",
   "execution_count": null,
   "metadata": {},
   "outputs": [],
   "source": []
  },
  {
   "cell_type": "code",
   "execution_count": null,
   "metadata": {},
   "outputs": [],
   "source": []
  },
  {
   "cell_type": "code",
   "execution_count": null,
   "metadata": {},
   "outputs": [],
   "source": []
  },
  {
   "cell_type": "code",
   "execution_count": null,
   "metadata": {},
   "outputs": [],
   "source": []
  },
  {
   "cell_type": "code",
   "execution_count": null,
   "metadata": {},
   "outputs": [],
   "source": []
  }
 ],
 "metadata": {
  "kernelspec": {
   "display_name": "Python 3",
   "language": "python",
   "name": "python3"
  },
  "language_info": {
   "codemirror_mode": {
    "name": "ipython",
    "version": 3
   },
   "file_extension": ".py",
   "mimetype": "text/x-python",
   "name": "python",
   "nbconvert_exporter": "python",
   "pygments_lexer": "ipython3",
   "version": "3.8.3"
  }
 },
 "nbformat": 4,
 "nbformat_minor": 4
}
