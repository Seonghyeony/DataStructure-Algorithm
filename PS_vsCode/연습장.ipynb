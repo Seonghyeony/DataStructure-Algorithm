{
 "cells": [
  {
   "cell_type": "code",
   "execution_count": 12,
   "metadata": {},
   "outputs": [
    {
     "name": "stdout",
     "output_type": "stream",
     "text": [
      "[1, 2, 4, 5, 6]\n"
     ]
    }
   ],
   "source": [
    "import heapq\n",
    "\n",
    "queue = [4, 2, 1, 5, 6]\n",
    "\n",
    "heapq.heapify(queue)\n",
    "print(queue)"
   ]
  },
  {
   "cell_type": "code",
   "execution_count": 13,
   "metadata": {},
   "outputs": [],
   "source": [
    "mygraph = {\n",
    "    'A': {'B': 8, 'C': 1, 'D': 2},\n",
    "    'B': {},\n",
    "    'C': {'B': 5, 'D': 2},\n",
    "    'D': {'E': 3, 'F': 5},\n",
    "    'E': {'F': 1},\n",
    "    'F': {'A': 5}\n",
    "}"
   ]
  },
  {
   "cell_type": "code",
   "execution_count": 14,
   "metadata": {},
   "outputs": [],
   "source": [
    "import heapq\n",
    "\n",
    "def dijkstra(graph, start):\n",
    "    \n",
    "    distances = {node: float('inf') for node in graph}\n",
    "    distances[start] = 0\n",
    "    queue = []\n",
    "    heapq.heappush(queue, [distances[start], start])\n",
    "    \n",
    "    while queue:\n",
    "        current_distance, current_node = heapq.heappop(queue)\n",
    "        \n",
    "        if distances[current_node] < current_distance:\n",
    "            continue\n",
    "        for adjacent, weight in graph[current_node].items():\n",
    "            distance = current_distance + weight\n",
    "            if distance < distances[adjacent]:\n",
    "                distances[adjacent] = distance\n",
    "                heapq.heappush(queue, [distance, adjacent])\n",
    "    return distances"
   ]
  },
  {
   "cell_type": "code",
   "execution_count": 15,
   "metadata": {},
   "outputs": [
    {
     "data": {
      "text/plain": [
       "{'A': 0, 'B': 6, 'C': 1, 'D': 2, 'E': 5, 'F': 6}"
      ]
     },
     "execution_count": 15,
     "metadata": {},
     "output_type": "execute_result"
    }
   ],
   "source": [
    "dijkstra(mygraph, 'A')"
   ]
  },
  {
   "cell_type": "code",
   "execution_count": 16,
   "metadata": {},
   "outputs": [],
   "source": [
    "mygraph = {\n",
    "    'vertices': ['A', 'B', 'C', 'D', 'E', 'F', 'G'],\n",
    "    'edges': [\n",
    "        (7, 'A', 'B'),\n",
    "        (5, 'A', 'D'),\n",
    "        (7, 'B', 'A'),\n",
    "        (8, 'B', 'C'),\n",
    "        (9, 'B', 'D'),\n",
    "        (7, 'B', 'E'),\n",
    "        (8, 'C', 'B'),\n",
    "        (5, 'C', 'E'),\n",
    "        (5, 'D', 'A'),\n",
    "        (9, 'D', 'B'),\n",
    "        (7, 'D', 'E'),\n",
    "        (6, 'D', 'F'),\n",
    "        (7, 'E', 'B'),\n",
    "        (5, 'E', 'C'),\n",
    "        (7, 'E', 'D'),\n",
    "        (8, 'E', 'F'),\n",
    "        (9, 'E', 'G'),\n",
    "        (6, 'F', 'D'),\n",
    "        (8, 'F', 'E'),\n",
    "        (11, 'F', 'G'),\n",
    "        (9, 'G', 'E'),\n",
    "        (11, 'G', 'F')\n",
    "    ]\n",
    "}"
   ]
  },
  {
   "cell_type": "code",
   "execution_count": 19,
   "metadata": {},
   "outputs": [],
   "source": [
    "parent = dict()\n",
    "rank = dict()\n",
    "\n",
    "def make_set(node):\n",
    "    parent[node] = node\n",
    "    rank[node] = 0\n",
    "    \n",
    "def find(node):\n",
    "    # path compression\n",
    "    if parent[node] != node:\n",
    "        parent[node] = find(parent[node])\n",
    "    return parent[node]\n",
    "        \n",
    "def union(node_v, node_u):\n",
    "    root1, root2 = find(node_v), find(node_u)\n",
    "    \n",
    "    # union-by-rank\n",
    "    if rank[root1] > rank[root2]:\n",
    "        parent[root2] = root1\n",
    "    else:\n",
    "        parent[root1] = root2\n",
    "        if rank[root1] == rank[root2]:\n",
    "            rank[root2] += 1\n",
    "\n",
    "def kruskal(graph):\n",
    "    mst = list()\n",
    "    \n",
    "    # 1. 초기화\n",
    "    for node in graph['vertices']:\n",
    "        make_set(node)\n",
    "    \n",
    "    # 2. 간선 weight 기반 sorting\n",
    "    edges = graph['edges']\n",
    "    edges.sort()\n",
    "    \n",
    "    # 3. 간선 연결(사이클 없이)\n",
    "    for edge in edges:\n",
    "        weight, node_v, node_u = edge\n",
    "        if find(node_v) != find(node_u):\n",
    "            union(node_v, node_u)\n",
    "            mst.append(edge)\n",
    "    \n",
    "    return mst"
   ]
  },
  {
   "cell_type": "code",
   "execution_count": 20,
   "metadata": {},
   "outputs": [
    {
     "data": {
      "text/plain": [
       "[(5, 'A', 'D'),\n",
       " (5, 'C', 'E'),\n",
       " (6, 'D', 'F'),\n",
       " (7, 'A', 'B'),\n",
       " (7, 'B', 'E'),\n",
       " (9, 'E', 'G')]"
      ]
     },
     "execution_count": 20,
     "metadata": {},
     "output_type": "execute_result"
    }
   ],
   "source": [
    "kruskal(mygraph)"
   ]
  },
  {
   "cell_type": "code",
   "execution_count": null,
   "metadata": {},
   "outputs": [],
   "source": []
  }
 ],
 "metadata": {
  "kernelspec": {
   "display_name": "Python 3",
   "language": "python",
   "name": "python3"
  },
  "language_info": {
   "codemirror_mode": {
    "name": "ipython",
    "version": 3
   },
   "file_extension": ".py",
   "mimetype": "text/x-python",
   "name": "python",
   "nbconvert_exporter": "python",
   "pygments_lexer": "ipython3",
   "version": "3.8.3"
  }
 },
 "nbformat": 4,
 "nbformat_minor": 4
}
