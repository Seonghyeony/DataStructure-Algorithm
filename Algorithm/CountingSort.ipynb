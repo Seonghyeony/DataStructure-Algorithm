{
 "cells": [
  {
   "cell_type": "markdown",
   "metadata": {},
   "source": [
    "## 10989. 수 정렬하기 3"
   ]
  },
  {
   "cell_type": "markdown",
   "metadata": {},
   "source": [
    "- 유형: 정렬 (계수 정렬)\n",
    "- 난이도: Easy"
   ]
  },
  {
   "cell_type": "markdown",
   "metadata": {},
   "source": [
    "## 내가 한 풀이 - 실패ㅠ"
   ]
  },
  {
   "cell_type": "markdown",
   "metadata": {},
   "source": [
    "- 마지막 for 문에서 좋은 풀이에 있는 것처럼 최적화를 시켜주자!"
   ]
  },
  {
   "cell_type": "code",
   "execution_count": 3,
   "metadata": {},
   "outputs": [
    {
     "name": "stdout",
     "output_type": "stream",
     "text": [
      "4\n",
      "5\n",
      "2\n",
      "3\n",
      "1\n",
      "1\n",
      "2\n",
      "3\n",
      "5\n"
     ]
    }
   ],
   "source": [
    "import sys\n",
    "\n",
    "test_case = int(sys.stdin.readline())\n",
    "\n",
    "array = [0 for _ in range(10001)]\n",
    "\n",
    "for _ in range(test_case):\n",
    "    input_data = int(sys.stdin.readline())\n",
    "    array[input_data] += 1\n",
    "\n",
    "for index in range(1, 10001):\n",
    "    while array[index] != 0:\n",
    "        print(index)\n",
    "        array[index] -= 1"
   ]
  },
  {
   "cell_type": "code",
   "execution_count": null,
   "metadata": {},
   "outputs": [],
   "source": []
  },
  {
   "cell_type": "markdown",
   "metadata": {},
   "source": [
    "## 좋은 풀이"
   ]
  },
  {
   "cell_type": "markdown",
   "metadata": {},
   "source": [
    "1. 데이터의 개수가 최대 10,000,000개이다.\n",
    "2. 시간복잡도 O(N)의 정렬 알고리즘을 이용해야 한다.\n",
    "3. 수의 범위가 1~10,000이므로 **계수 정렬**을 이용할 수 있다.\n",
    "> 계수 정렬(Counting Sort) 알고리즘\n",
    "        - 배열의 인덱스를 특정한 데이터의 값으로 여기는 정렬 방법이다.\n",
    "        - 배열의 크기는 데이터의 범위를 포함할 수 있도록 설정한다.\n",
    "        - 데이터가 등장한 횟수를 센다."
   ]
  },
  {
   "cell_type": "markdown",
   "metadata": {},
   "source": [
    "#### 데이터의 개수가 많을 때 파이썬에서는 **sys.stdin.readline()**를 사용해야 한다.\n",
    "    import sys\n",
    "\n",
    "    sys.stdin.readline()\n"
   ]
  },
  {
   "cell_type": "code",
   "execution_count": null,
   "metadata": {},
   "outputs": [],
   "source": [
    "import sys\n",
    "\n",
    "test_case = int(sys.stdin.readline())\n",
    "\n",
    "array = [0 for _ in range(10001)]\n",
    "\n",
    "for _ in range(test_case):\n",
    "    input_data = int(sys.stdin.readline())\n",
    "    array[input_data] += 1\n",
    "\n",
    "for index in range(1, 10001):\n",
    "    if array[index] != 0:\n",
    "        for _ in range(array[index]):\n",
    "            print(index)"
   ]
  },
  {
   "cell_type": "code",
   "execution_count": null,
   "metadata": {},
   "outputs": [],
   "source": []
  },
  {
   "cell_type": "code",
   "execution_count": null,
   "metadata": {},
   "outputs": [],
   "source": []
  },
  {
   "cell_type": "code",
   "execution_count": null,
   "metadata": {},
   "outputs": [],
   "source": []
  }
 ],
 "metadata": {
  "kernelspec": {
   "display_name": "Python 3",
   "language": "python",
   "name": "python3"
  },
  "language_info": {
   "codemirror_mode": {
    "name": "ipython",
    "version": 3
   },
   "file_extension": ".py",
   "mimetype": "text/x-python",
   "name": "python",
   "nbconvert_exporter": "python",
   "pygments_lexer": "ipython3",
   "version": "3.7.7"
  }
 },
 "nbformat": 4,
 "nbformat_minor": 4
}
