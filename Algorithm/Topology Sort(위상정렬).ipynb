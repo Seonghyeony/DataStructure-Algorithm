{
 "cells": [
  {
   "cell_type": "markdown",
   "metadata": {},
   "source": [
    "## 위상 정렬(Topology Sort)"
   ]
  },
  {
   "cell_type": "markdown",
   "metadata": {},
   "source": [
    "### 위상 정렬은 순서가 정해져 있는 작업을 차례로 수행해야 할 때, 순서를 결정해주는 알고리즘이다."
   ]
  },
  {
   "cell_type": "markdown",
   "metadata": {},
   "source": [
    "- 1) 진입 차수가 0인 정점을 큐에 삽입한다.\n",
    "- 2) 큐에서 원소를 꺼내 해당 원소와 간선을 제거한다.\n",
    "- 3) 제거 이후에 진입 차수가 0이 된 정점을 큐에 삽입한다.\n",
    "- 4) 큐가 빌 때까지 2)-3) 과정을 반복한다."
   ]
  },
  {
   "cell_type": "markdown",
   "metadata": {},
   "source": [
    "> 모든 원소를 방문하기 전에 큐가 빈다면 사이클이 존재하는 것이다.\n",
    "\n",
    "> 모든 원소를 방문했다면 큐에서 꺼낸 순서가 위상 정렬의 결과이다."
   ]
  },
  {
   "cell_type": "markdown",
   "metadata": {},
   "source": [
    "#### 위상정렬은 사이클이 존재하면 안된다"
   ]
  },
  {
   "cell_type": "markdown",
   "metadata": {},
   "source": [
    "위상 정렬의 시간 복잡도는 O(V + E) 이다."
   ]
  },
  {
   "cell_type": "code",
   "execution_count": null,
   "metadata": {},
   "outputs": [],
   "source": []
  }
 ],
 "metadata": {
  "kernelspec": {
   "display_name": "Python 3",
   "language": "python",
   "name": "python3"
  },
  "language_info": {
   "codemirror_mode": {
    "name": "ipython",
    "version": 3
   },
   "file_extension": ".py",
   "mimetype": "text/x-python",
   "name": "python",
   "nbconvert_exporter": "python",
   "pygments_lexer": "ipython3",
   "version": "3.7.7"
  }
 },
 "nbformat": 4,
 "nbformat_minor": 4
}
