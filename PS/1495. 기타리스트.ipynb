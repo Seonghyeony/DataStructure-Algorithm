{
 "cells": [
  {
   "cell_type": "markdown",
   "metadata": {},
   "source": [
    "## 1495. 기타리스트"
   ]
  },
  {
   "cell_type": "markdown",
   "metadata": {},
   "source": [
    "- 유형: DP\n",
    "- 난이도: Medium"
   ]
  },
  {
   "cell_type": "markdown",
   "metadata": {},
   "source": [
    "## 내가 한 풀이 - 아이디어 생각 실패..."
   ]
  },
  {
   "cell_type": "code",
   "execution_count": 8,
   "metadata": {},
   "outputs": [
    {
     "name": "stdout",
     "output_type": "stream",
     "text": [
      "3 5 10\n",
      "5 3 7\n",
      "10\n"
     ]
    }
   ],
   "source": [
    "n, s, m = map(int, input().split(' '))\n",
    "\n",
    "dp = [[False] * (m + 1) for _ in range(n + 1)]\n",
    "\n",
    "dp[0][s] = True\n",
    "\n",
    "music = list(map(int, input().split(' ')))\n",
    "\n",
    "for i in range(1, n + 1):\n",
    "    number = music.pop(0)\n",
    "    for j in range(m + 1):\n",
    "        if dp[i - 1][j]:\n",
    "            if j - number >= 0:\n",
    "                dp[i][j - number] = True\n",
    "            if j + number <= m:\n",
    "                dp[i][j + number] = True\n",
    "\n",
    "if True not in dp[n]:\n",
    "    print(-1)\n",
    "else:\n",
    "    volum = 0\n",
    "    for i in range(m + 1):\n",
    "        if dp[n][i]:\n",
    "            volum = max(volum, i)\n",
    "    print(volum)"
   ]
  },
  {
   "cell_type": "code",
   "execution_count": 6,
   "metadata": {},
   "outputs": [
    {
     "data": {
      "text/plain": [
       "False"
      ]
     },
     "execution_count": 6,
     "metadata": {},
     "output_type": "execute_result"
    }
   ],
   "source": [
    "a = [False, False]\n",
    "True in a"
   ]
  },
  {
   "cell_type": "markdown",
   "metadata": {},
   "source": [
    "## 좋은 풀이"
   ]
  },
  {
   "cell_type": "markdown",
   "metadata": {},
   "source": [
    "* 차례대로 곡을 연주한다는 점에서, DP로 해결 가능\n",
    "* 곡의 개수가 N, 볼륨의 최댓값은 M 이다.\n",
    "* DP를 이용하여 시간복잡도 O(NM)으로 해결 가능"
   ]
  },
  {
   "cell_type": "markdown",
   "metadata": {},
   "source": [
    "* **핵심 아이디어:** 모든 볼륨에 대하여 연주 가능 여부를 계산하기\n",
    "* D[i][j+1] = i번째 노래일 때 j 크기의 볼륨으로 연주 가능한지 여부\n",
    "* 노래를 순서대로 확인하며, 매 번 모든 크기의 볼륨에 대하여 검사\n",
    "* D[i][j - V[i]] = True if D[i - 1][j] = True\n",
    "* D[i][j + V[i]] = True if D[i - 1][j] = True"
   ]
  },
  {
   "cell_type": "code",
   "execution_count": 3,
   "metadata": {},
   "outputs": [
    {
     "name": "stdout",
     "output_type": "stream",
     "text": [
      "3 5 10\n",
      "5 3 7\n",
      "10\n"
     ]
    }
   ],
   "source": [
    "n, s, m = map(int, input().split(' '))\n",
    "array = list(map(int, input().split(' ')))\n",
    "\n",
    "dp = [[0] * (m + 1) for _ in range(n + 1)]\n",
    "dp[0][s] = 1\n",
    "\n",
    "for i in range(1, n + 1):\n",
    "    for j in range(m + 1):\n",
    "        if dp[i - 1][j] == 0:\n",
    "            continue\n",
    "        if j - array[i - 1] >= 0:\n",
    "            dp[i][j - array[i - 1]] = 1\n",
    "        if j + array[i - 1] <= m:\n",
    "            dp[i][j + array[i - 1]] = 1\n",
    "\n",
    "# 마지막 배열을 거꾸로 보면서 내려가면서\n",
    "result = -1\n",
    "for i in range(m, -1, -1):\n",
    "    if dp[n][i] == 1:\n",
    "        result = i\n",
    "        break\n",
    "\n",
    "print(result)"
   ]
  },
  {
   "cell_type": "code",
   "execution_count": null,
   "metadata": {},
   "outputs": [],
   "source": []
  }
 ],
 "metadata": {
  "kernelspec": {
   "display_name": "Python 3",
   "language": "python",
   "name": "python3"
  },
  "language_info": {
   "codemirror_mode": {
    "name": "ipython",
    "version": 3
   },
   "file_extension": ".py",
   "mimetype": "text/x-python",
   "name": "python",
   "nbconvert_exporter": "python",
   "pygments_lexer": "ipython3",
   "version": "3.8.3"
  }
 },
 "nbformat": 4,
 "nbformat_minor": 4
}
