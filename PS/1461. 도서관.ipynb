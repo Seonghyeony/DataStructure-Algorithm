{
 "cells": [
  {
   "cell_type": "markdown",
   "metadata": {},
   "source": [
    "## 1461. 도서관"
   ]
  },
  {
   "cell_type": "markdown",
   "metadata": {},
   "source": [
    "- 유형: 그리디\n",
    "- 난이도: 중 40분"
   ]
  },
  {
   "cell_type": "markdown",
   "metadata": {},
   "source": [
    "## 내가 한 풀이 - 런타임 에러 실패...ㅠ"
   ]
  },
  {
   "cell_type": "code",
   "execution_count": 40,
   "metadata": {},
   "outputs": [
    {
     "name": "stdout",
     "output_type": "stream",
     "text": [
      "7 2\n",
      "-37 2 -6 -39 -29 11 -28\n",
      "131\n"
     ]
    }
   ],
   "source": [
    "import math\n",
    "\n",
    "def short(array):\n",
    "    result = 0\n",
    "    index = (len(array) % m) - 1\n",
    "    result += array[index] * 2\n",
    "    index += 2\n",
    "\n",
    "    if index != len(array) - 1:\n",
    "        while True:\n",
    "            if index == len(array) - 1:\n",
    "                result += array[index] * 2\n",
    "                break\n",
    "            else:\n",
    "                result += array[index] * 2\n",
    "                index += 2\n",
    "                \n",
    "    return result\n",
    "                \n",
    "def long(array):\n",
    "    result = 0\n",
    "    index = (len(array) % m) - 1\n",
    "    result += array[index] * 2\n",
    "    index += 2\n",
    "\n",
    "    if index != len(array) - 1:\n",
    "        while True:\n",
    "            if index == len(array) - 1:\n",
    "                result += array[index]\n",
    "                break\n",
    "            else:\n",
    "                result += array[index] * 2\n",
    "                index += 2\n",
    "                \n",
    "    return result\n",
    "\n",
    "n, m = map(int, input().split())\n",
    "locations = list(map(int, input().split()))\n",
    "locations.sort()\n",
    "\n",
    "locations_left, locations_right = [], []\n",
    "\n",
    "for location in locations:\n",
    "    if location < 0:\n",
    "        locations_left.append(abs(location))\n",
    "    else:\n",
    "        locations_right.append(location)\n",
    "        \n",
    "locations_left.reverse()\n",
    "\n",
    "count = 0\n",
    "\n",
    "if len(locations_left) < len(locations_right):\n",
    "    count += short(locaions_left)\n",
    "    count += long(locations_right)\n",
    "else:\n",
    "    count += short(locations_right)\n",
    "    count += long(locations_left)\n",
    "        \n",
    "print(count)"
   ]
  },
  {
   "cell_type": "code",
   "execution_count": null,
   "metadata": {},
   "outputs": [],
   "source": []
  },
  {
   "cell_type": "markdown",
   "metadata": {},
   "source": [
    "## 좋은 풀이"
   ]
  },
  {
   "cell_type": "markdown",
   "metadata": {},
   "source": [
    "* 일직선 상의 각 책들을 원래의 위치에 놓아야 한다.\n",
    "* 0보다 큰 책들과 0보다 작은 책들을 나누어서 처리\n",
    "* 두 개의 우선순위 큐를 사용하여 문제를 효과적으로 해결 가능\n",
    "* 마지막 책을 놓을 때는 다시 0으로 돌아올 필요가 없으므로, 가장 먼 책을 마지막으로 놓는다."
   ]
  },
  {
   "cell_type": "markdown",
   "metadata": {},
   "source": [
    "> **!!!!왕복거리를 전부 계산한 값 - 가장 먼 책의 편도 거리!!!!**"
   ]
  },
  {
   "cell_type": "markdown",
   "metadata": {},
   "source": [
    "### 기본 heapq는 min heap이므로 max heap으로 만들기 위해서 음수로 추가한다. "
   ]
  },
  {
   "cell_type": "markdown",
   "metadata": {},
   "source": [
    "### ==> 마지막에 - 붙이면 max heap "
   ]
  },
  {
   "cell_type": "code",
   "execution_count": null,
   "metadata": {},
   "outputs": [],
   "source": [
    "import heapq\n",
    "\n",
    "n, m = map(int, input().split())\n",
    "array = list(map(int, input().split()))\n",
    "# 우선순위 큐를 2개 만들어서 문제 해결\n",
    "positive = []\n",
    "negative = []\n",
    "\n",
    "# 가장 거리가 먼 책까지의 거리\n",
    "largest = max(max(array), - min(array))\n",
    "\n",
    "# 최대 힙(Max Heap)을 위해 원소를 음수로 구성\n",
    "for i in array:\n",
    "    # 책의 위치가 양수인 경우\n",
    "    if i > 0:\n",
    "        heapq.heappush(positive, -i)\n",
    "    # 책의 위치가 음수인 경우\n",
    "    else:\n",
    "        heapq.heappush(negative, i)\n",
    "        \n",
    "result = 0\n",
    "\n",
    "while positive:\n",
    "    # 한 번에 m개씩 옮길 수 있으므로 m개씩 빼내기\n",
    "    result += heapq.heappop(positive)\n",
    "    for _ in range(m - 1):\n",
    "        if positive:\n",
    "            heapq.heappop(positive)\n",
    "            \n",
    "while negative:\n",
    "    # 한 번에 m개씩 옮길 수 있으므로 m개씩 빼내기\n",
    "    result += heapq.heappop(negative)\n",
    "    for _ in range(m - 1):\n",
    "        if negative:\n",
    "            heapq.heappop(negative)\n",
    "            \n",
    "print(-result * 2 - largest)"
   ]
  },
  {
   "cell_type": "code",
   "execution_count": null,
   "metadata": {},
   "outputs": [],
   "source": []
  }
 ],
 "metadata": {
  "kernelspec": {
   "display_name": "Python 3",
   "language": "python",
   "name": "python3"
  },
  "language_info": {
   "codemirror_mode": {
    "name": "ipython",
    "version": 3
   },
   "file_extension": ".py",
   "mimetype": "text/x-python",
   "name": "python",
   "nbconvert_exporter": "python",
   "pygments_lexer": "ipython3",
   "version": "3.8.3"
  }
 },
 "nbformat": 4,
 "nbformat_minor": 4
}
