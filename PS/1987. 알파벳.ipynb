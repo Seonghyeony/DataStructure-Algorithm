{
 "cells": [
  {
   "cell_type": "markdown",
   "metadata": {},
   "source": [
    "## 1987. 알파벳"
   ]
  },
  {
   "cell_type": "markdown",
   "metadata": {},
   "source": [
    "- 유형: 백트래킹\n",
    "- 난이도: 중 40분"
   ]
  },
  {
   "cell_type": "markdown",
   "metadata": {},
   "source": [
    "## 내가 한 풀이 - 시간초과 실패ㅠㅠ"
   ]
  },
  {
   "cell_type": "code",
   "execution_count": 12,
   "metadata": {},
   "outputs": [
    {
     "name": "stdout",
     "output_type": "stream",
     "text": [
      "4 4\n",
      "CAAB\n",
      "ADCB\n",
      "RUWK\n",
      "DKWP\n"
     ]
    },
    {
     "data": {
      "text/plain": [
       "[['C', 'A', 'A', 'B'],\n",
       " ['A', 'D', 'C', 'B'],\n",
       " ['R', 'U', 'W', 'K'],\n",
       " ['D', 'K', 'W', 'P']]"
      ]
     },
     "execution_count": 12,
     "metadata": {},
     "output_type": "execute_result"
    }
   ],
   "source": [
    "r, c = map(int, input().split())\n",
    "\n",
    "board = list()\n",
    "\n",
    "for _ in range(r):\n",
    "    board.append(list(input()))\n",
    "    \n",
    "board"
   ]
  },
  {
   "cell_type": "code",
   "execution_count": 13,
   "metadata": {},
   "outputs": [
    {
     "name": "stdout",
     "output_type": "stream",
     "text": [
      "['C']\n",
      "['C', 'A']\n",
      "['C', 'A', 'R']\n",
      "['C', 'A', 'R', 'D']\n",
      "['C', 'A', 'R', 'D', 'K']\n",
      "['C', 'A', 'R', 'D', 'K', 'U']\n",
      "['C', 'A', 'R', 'D', 'K', 'U', 'W']\n",
      "['C', 'A', 'R', 'D', 'K', 'W']\n",
      "['C', 'A', 'R', 'D', 'K', 'W', 'P']\n",
      "['C', 'A', 'R', 'U']\n",
      "['C', 'A', 'R', 'U', 'K']\n",
      "['C', 'A', 'R', 'U', 'K', 'D']\n",
      "['C', 'A', 'R', 'U', 'K', 'W']\n",
      "['C', 'A', 'R', 'U', 'K', 'W', 'P']\n",
      "['C', 'A', 'R', 'U', 'D']\n",
      "['C', 'A', 'R', 'U', 'W']\n",
      "['C', 'A', 'R', 'U', 'W', 'K']\n",
      "['C', 'A', 'R', 'U', 'W', 'K', 'P']\n",
      "['C', 'A', 'R', 'U', 'W', 'K', 'B']\n",
      "['C', 'A', 'D']\n",
      "['C', 'A', 'D', 'U']\n",
      "['C', 'A', 'D', 'U', 'K']\n",
      "['C', 'A', 'D', 'U', 'K', 'W']\n",
      "['C', 'A', 'D', 'U', 'K', 'W', 'P']\n",
      "['C', 'A', 'D', 'U', 'R']\n",
      "['C', 'A', 'D', 'U', 'W']\n",
      "['C', 'A', 'D', 'U', 'W', 'K']\n",
      "['C', 'A', 'D', 'U', 'W', 'K', 'P']\n",
      "['C', 'A', 'D', 'U', 'W', 'K', 'B']\n",
      "['C', 'A']\n",
      "['C', 'A', 'D']\n",
      "['C', 'A', 'D', 'U']\n",
      "['C', 'A', 'D', 'U', 'K']\n",
      "['C', 'A', 'D', 'U', 'K', 'W']\n",
      "['C', 'A', 'D', 'U', 'K', 'W', 'P']\n",
      "['C', 'A', 'D', 'U', 'R']\n",
      "['C', 'A', 'D', 'U', 'W']\n",
      "['C', 'A', 'D', 'U', 'W', 'K']\n",
      "['C', 'A', 'D', 'U', 'W', 'K', 'P']\n",
      "['C', 'A', 'D', 'U', 'W', 'K', 'B']\n",
      "7\n"
     ]
    }
   ],
   "source": [
    "def check(x, y, candidate):\n",
    "    if board[y][x] not in candidate:\n",
    "        return True\n",
    "    else:\n",
    "        return False\n",
    "\n",
    "def dfs(x, y, candidate):\n",
    "    global result\n",
    "    for i in range(4):\n",
    "        next_x = x + move_x[i]\n",
    "        next_y = y + move_y[i]\n",
    "\n",
    "        if next_x < 0 or next_x >= c or next_y < 0 or next_y >= r:\n",
    "            continue\n",
    "                \n",
    "        if check(next_x, next_y, candidate):\n",
    "            candidate.append(board[next_y][next_x])\n",
    "            result = max(result, len(candidate))\n",
    "            dfs(next_x, next_y, candidate)\n",
    "            \n",
    "    candidate.pop()\n",
    "    \n",
    "move_x = [0, 0, -1, 1]\n",
    "move_y = [1, -1, 0, 0]\n",
    "\n",
    "result = 1\n",
    "candidate = [board[0][0]]\n",
    "\n",
    "dfs(0, 0, candidate)\n",
    "\n",
    "print(result)"
   ]
  },
  {
   "cell_type": "code",
   "execution_count": null,
   "metadata": {},
   "outputs": [],
   "source": []
  },
  {
   "cell_type": "code",
   "execution_count": null,
   "metadata": {},
   "outputs": [],
   "source": []
  },
  {
   "cell_type": "code",
   "execution_count": null,
   "metadata": {},
   "outputs": [],
   "source": []
  },
  {
   "cell_type": "markdown",
   "metadata": {},
   "source": [
    "## 좋은 풀이"
   ]
  },
  {
   "cell_type": "markdown",
   "metadata": {},
   "source": [
    "* bfs를 사용\n",
    "* 이동하는 경로를 문자열처럼 보면 간단하게 풀 수 있음\n",
    "* set을 사용"
   ]
  },
  {
   "cell_type": "code",
   "execution_count": 15,
   "metadata": {},
   "outputs": [
    {
     "name": "stdout",
     "output_type": "stream",
     "text": [
      "2 4\n",
      "CAAB\n",
      "ADCB\n",
      "{(0, 0, 'C')}\n",
      "{(0, 1, 'CA'), (1, 0, 'CA')}\n",
      "{(1, 0, 'CA'), (1, 1, 'CAD')}\n",
      "{(1, 1, 'CAD')}\n",
      "3\n"
     ]
    }
   ],
   "source": [
    "dx = [-1, 1, 0, 0]\n",
    "dy = [0, 0, -1, 1]\n",
    "\n",
    "def bfs(x, y):\n",
    "    global result\n",
    "    \n",
    "    # 동일한 경우는 한 번만 계산하기 위하여 집합(set) 자료형 사용\n",
    "    q = set()\n",
    "    q.add((x, y, array[x][y]))\n",
    "    while q:\n",
    "        print(q)\n",
    "        x, y, step = q.pop()\n",
    "        # 가장 긴 이동 거리를 저장\n",
    "        result = max(result, len(step))\n",
    "        \n",
    "        # 네 방향으로 이동하는 경우를 각각 확인\n",
    "        for i in range(4):\n",
    "            nx = x + dx[i]\n",
    "            ny = y + dy[i]\n",
    "            \n",
    "            # 이동할 수 있는 위치이면서, 새로운 알파벳인 경우\n",
    "            if 0 <= nx and nx < r and 0 <= ny and ny < c and array[nx][ny] not in step:\n",
    "                q.add((nx, ny, step + array[nx][ny]))\n",
    "\n",
    "\n",
    "r, c = map(int, input().split())\n",
    "array = []\n",
    "for _ in range(r):\n",
    "    array.append(input())\n",
    "    \n",
    "# 백트래킹 수행 결과를 출력\n",
    "result = 0\n",
    "bfs(0, 0)\n",
    "print(result)"
   ]
  },
  {
   "cell_type": "code",
   "execution_count": null,
   "metadata": {},
   "outputs": [],
   "source": []
  },
  {
   "cell_type": "code",
   "execution_count": null,
   "metadata": {},
   "outputs": [],
   "source": []
  }
 ],
 "metadata": {
  "kernelspec": {
   "display_name": "Python 3",
   "language": "python",
   "name": "python3"
  },
  "language_info": {
   "codemirror_mode": {
    "name": "ipython",
    "version": 3
   },
   "file_extension": ".py",
   "mimetype": "text/x-python",
   "name": "python",
   "nbconvert_exporter": "python",
   "pygments_lexer": "ipython3",
   "version": "3.7.7"
  }
 },
 "nbformat": 4,
 "nbformat_minor": 4
}
