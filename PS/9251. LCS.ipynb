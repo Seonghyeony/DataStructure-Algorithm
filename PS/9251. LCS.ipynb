{
 "cells": [
  {
   "cell_type": "markdown",
   "metadata": {},
   "source": [
    "## 9251. LCS (Longest Common Subsequence)"
   ]
  },
  {
   "cell_type": "markdown",
   "metadata": {},
   "source": [
    "- 유형: DP, LCS(Longest Common Subsequence; 최장 공통 부분수열)\n",
    "- 난이도: Easy"
   ]
  },
  {
   "cell_type": "markdown",
   "metadata": {},
   "source": [
    "## 내가 한 풀이 - 실패...."
   ]
  },
  {
   "cell_type": "code",
   "execution_count": 7,
   "metadata": {},
   "outputs": [
    {
     "name": "stdout",
     "output_type": "stream",
     "text": [
      "ACAYKP\n",
      "CAPCAK\n"
     ]
    },
    {
     "data": {
      "text/plain": [
       "[[0, 0, 0, 0, 0, 0, 0],\n",
       " [0, 0, 1, 1, 1, 1, 1],\n",
       " [0, 1, 1, 2, 2, 2, 2],\n",
       " [0, 1, 1, 2, 2, 2, 3],\n",
       " [0, 1, 2, 2, 2, 2, 3],\n",
       " [0, 1, 2, 3, 3, 3, 3],\n",
       " [0, 1, 2, 3, 3, 4, 4]]"
      ]
     },
     "execution_count": 7,
     "metadata": {},
     "output_type": "execute_result"
    }
   ],
   "source": [
    "a = input()\n",
    "b = input()\n",
    "\n",
    "dp = [[0] * (len(a) + 1) for _ in range(len(b) + 1)]\n",
    "\n",
    "for i in range(1, len(b) + 1):\n",
    "    for j in range(1, len(a) + 1):\n",
    "        if b[i-1] == a[j-1]:\n",
    "            dp[i][j] = dp[i-1][j-1] + 1\n",
    "        else:\n",
    "            dp[i][j] = max(dp[i-1][j], dp[i][j-1])\n",
    "            \n",
    "dp"
   ]
  },
  {
   "cell_type": "code",
   "execution_count": null,
   "metadata": {},
   "outputs": [],
   "source": []
  },
  {
   "cell_type": "markdown",
   "metadata": {},
   "source": [
    "## 좋은 풀이"
   ]
  },
  {
   "cell_type": "markdown",
   "metadata": {},
   "source": [
    "* LCS 문제로 알려진 대표적인 DP 문제이다.\n",
    "* 시간 복잡도 O(N^2)로 문제 해결 가능"
   ]
  },
  {
   "cell_type": "markdown",
   "metadata": {},
   "source": [
    "> 두 문자열의 길이를 조금씩 늘려 가며 확인하여, 공통 부분 수열의 최대 길이를 계산.\n",
    "\n",
    "> 점화식\n",
    "\n",
    "> D[i][j] = X[0..i] 와 Y[0..j]의 공통 부분 수열의 최대 길이\n",
    "\n",
    "> D[i][j] =\n",
    "\n",
    ">> D[i - 1][j - 1] + 1 if, X[i] = Y[j]\n",
    "\n",
    ">> max(D[i][j - 1], D[i - 1][j]) if, X[i] != Y[j] "
   ]
  },
  {
   "cell_type": "code",
   "execution_count": 1,
   "metadata": {},
   "outputs": [
    {
     "name": "stdout",
     "output_type": "stream",
     "text": [
      "ACAYKP\n",
      "CAPCAK\n",
      "4\n"
     ]
    }
   ],
   "source": [
    "x = input()\n",
    "y = input()\n",
    "\n",
    "dp = [[0] * (len(y) + 1) for _ in range(len(x) + 1)]\n",
    "\n",
    "for i in range(1, len(x) + 1):\n",
    "    for j in range(1, len(y) + 1):\n",
    "        if x[i - 1] == y[j - 1]:\n",
    "            dp[i][j] = dp[i - 1][j - 1] + 1\n",
    "        else:\n",
    "            dp[i][j] = max(dp[i][j - 1], dp[i - 1][j])\n",
    "            \n",
    "print(dp[len(x)][len(y)])"
   ]
  },
  {
   "cell_type": "code",
   "execution_count": 4,
   "metadata": {},
   "outputs": [
    {
     "name": "stdout",
     "output_type": "stream",
     "text": [
      "ACAYKP\n",
      "CAPCAK\n",
      "4\n",
      "ACAK"
     ]
    }
   ],
   "source": [
    "x = input()\n",
    "y = input()\n",
    "\n",
    "dp = [[0] * (len(y) + 1) for _ in range(len(x) + 1)]\n",
    "\n",
    "for i in range(1, len(x) + 1):\n",
    "    for j in range(1, len(y) + 1):\n",
    "        if x[i - 1] == y[j - 1]:\n",
    "            dp[i][j] = dp[i - 1][j - 1] + 1\n",
    "        else:\n",
    "            dp[i][j] = max(dp[i][j - 1], dp[i - 1][j])\n",
    "            \n",
    "answer = []\n",
    "a = len(y)\n",
    "b = len(x)\n",
    "\n",
    "while a > 0 and b > 0:\n",
    "    if dp[b][a-1] == dp[b][a]:\n",
    "        a -= 1\n",
    "    elif dp[b-1][a] == dp[b][a]:\n",
    "        b -= 1\n",
    "    else:\n",
    "        answer.append(x[b-1])\n",
    "        a -= 1\n",
    "        b -= 1\n",
    "            \n",
    "print(dp[len(x)][len(y)])\n",
    "\n",
    "for c in answer[::-1]:\n",
    "    print(c, end='')\n"
   ]
  },
  {
   "cell_type": "code",
   "execution_count": null,
   "metadata": {},
   "outputs": [],
   "source": []
  }
 ],
 "metadata": {
  "kernelspec": {
   "display_name": "Python 3",
   "language": "python",
   "name": "python3"
  },
  "language_info": {
   "codemirror_mode": {
    "name": "ipython",
    "version": 3
   },
   "file_extension": ".py",
   "mimetype": "text/x-python",
   "name": "python",
   "nbconvert_exporter": "python",
   "pygments_lexer": "ipython3",
   "version": "3.8.3"
  }
 },
 "nbformat": 4,
 "nbformat_minor": 4
}
