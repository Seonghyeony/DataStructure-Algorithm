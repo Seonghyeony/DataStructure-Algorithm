{
 "cells": [
  {
   "cell_type": "markdown",
   "metadata": {},
   "source": [
    "## 1439. 뒤집기"
   ]
  },
  {
   "cell_type": "markdown",
   "metadata": {},
   "source": [
    "- 유형: 그리디\n",
    "- 난이도: 하 20분"
   ]
  },
  {
   "cell_type": "markdown",
   "metadata": {},
   "source": [
    "## 내가 한 풀이 - 성공! but.. 20분 실패ㅠ"
   ]
  },
  {
   "cell_type": "code",
   "execution_count": 29,
   "metadata": {},
   "outputs": [
    {
     "name": "stdout",
     "output_type": "stream",
     "text": [
      "1110011100\n",
      "[(3, 4), (8, 9)]\n",
      "[(0, 2), (5, 7)]\n",
      "2\n"
     ]
    }
   ],
   "source": [
    "s = input()\n",
    "\n",
    "pos0 = []\n",
    "pos1 = []\n",
    "\n",
    "start, end = 0, 0\n",
    "flag = True\n",
    "\n",
    "word = '0'\n",
    "\n",
    "for i in range(len(s)):\n",
    "    if s[i] == word and flag:\n",
    "        start = i\n",
    "        flag = False\n",
    "    \n",
    "    if s[i] != word and not flag:\n",
    "        end = i - 1\n",
    "        pos0.append((start, end))\n",
    "        start, end = 0, 0\n",
    "        flag = True\n",
    "        \n",
    "    if s[i] == word and not flag and i == len(s) - 1:\n",
    "        end = i\n",
    "        pos0.append((start, end))\n",
    "        start, end = 0, 0\n",
    "        flag = True\n",
    "        \n",
    "\n",
    "word = '1'\n",
    "\n",
    "for i in range(len(s)):\n",
    "    if s[i] == word and flag:\n",
    "        start = i\n",
    "        flag = False\n",
    "    \n",
    "    if s[i] != word and not flag:\n",
    "        end = i - 1\n",
    "        pos1.append((start, end))\n",
    "        start, end = 0, 0\n",
    "        flag = True\n",
    "        \n",
    "    if s[i] == word and not flag and i == len(s) - 1:\n",
    "        end = i\n",
    "        pos1.append((start, end))\n",
    "        start, end = 0, 0\n",
    "        flag = True\n",
    "        \n",
    "print(pos0)\n",
    "print(pos1)\n",
    "        \n",
    "print(min(len(pos0), len(pos1)))"
   ]
  },
  {
   "cell_type": "markdown",
   "metadata": {},
   "source": [
    "## 좋은 풀이"
   ]
  },
  {
   "cell_type": "markdown",
   "metadata": {},
   "source": [
    "* 1) 모두 0으로 만드는 경우 2) 모두 1로 만드는 경우 두 가지 다 계산하면 된다.\n",
    "* 문자열 S의 길이는 100만 이하이므로, 시간복잡도는 O(N)에 해결 해야함"
   ]
  },
  {
   "cell_type": "markdown",
   "metadata": {},
   "source": [
    "* 구체적인 알고리즘 예시) 모두 1로 만드는 경우\n",
    "\n",
    "> * 첫 번째 원소가 0인 경우 + 1\n",
    "\n",
    "> * 2개씩 원소를 비교할 때, 1에서 0으로 바뀌는 경우 + 1"
   ]
  },
  {
   "cell_type": "code",
   "execution_count": 31,
   "metadata": {},
   "outputs": [
    {
     "name": "stdout",
     "output_type": "stream",
     "text": [
      "11111000000111111\n",
      "1\n"
     ]
    }
   ],
   "source": [
    "data = input()\n",
    "count0 = 0  # 전부 0으로 바꾸는 경우\n",
    "count1 = 0  # 전부 1로 바꾸는 경우\n",
    "\n",
    "if data[0] == '1':\n",
    "    count0 += 1\n",
    "else:\n",
    "    count1 += 1\n",
    "    \n",
    "for i in range(len(data) - 1):\n",
    "    if data[i] != data[i + 1]:\n",
    "        if data[i + 1] == '1':\n",
    "            count0 += 1\n",
    "        else:\n",
    "            count1 += 1\n",
    "            \n",
    "print(min(count0, count1))"
   ]
  },
  {
   "cell_type": "code",
   "execution_count": null,
   "metadata": {},
   "outputs": [],
   "source": []
  },
  {
   "cell_type": "code",
   "execution_count": null,
   "metadata": {},
   "outputs": [],
   "source": []
  }
 ],
 "metadata": {
  "kernelspec": {
   "display_name": "Python 3",
   "language": "python",
   "name": "python3"
  },
  "language_info": {
   "codemirror_mode": {
    "name": "ipython",
    "version": 3
   },
   "file_extension": ".py",
   "mimetype": "text/x-python",
   "name": "python",
   "nbconvert_exporter": "python",
   "pygments_lexer": "ipython3",
   "version": "3.7.7"
  }
 },
 "nbformat": 4,
 "nbformat_minor": 4
}
