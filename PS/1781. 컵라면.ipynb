{
 "cells": [
  {
   "cell_type": "markdown",
   "metadata": {},
   "source": [
    "## 1781. 컵라면"
   ]
  },
  {
   "cell_type": "markdown",
   "metadata": {},
   "source": [
    "- 유형: 그리디\n",
    "- 난이도: 중 30분"
   ]
  },
  {
   "cell_type": "markdown",
   "metadata": {},
   "source": [
    "## 내가 한 풀이 - 실패...."
   ]
  },
  {
   "cell_type": "code",
   "execution_count": 24,
   "metadata": {
    "scrolled": true
   },
   "outputs": [
    {
     "name": "stdout",
     "output_type": "stream",
     "text": [
      "7\n",
      "1 6\n",
      "1 7\n",
      "3 2\n",
      "3 1\n",
      "2 4\n",
      "2 5\n",
      "6 1\n"
     ]
    },
    {
     "data": {
      "text/plain": [
       "[(1, 7), (1, 6), (2, 5), (2, 4), (3, 2), (3, 1), (6, 1)]"
      ]
     },
     "execution_count": 24,
     "metadata": {},
     "output_type": "execute_result"
    }
   ],
   "source": [
    "n = int(input())\n",
    "\n",
    "problem = []\n",
    "\n",
    "for i in range(1, n + 1):\n",
    "    weight, value = map(int, input().split())\n",
    "    problem.append((weight, value))\n",
    "\n",
    "problem.sort(key=lambda x: (x[0], -x[1]))\n",
    "problem"
   ]
  },
  {
   "cell_type": "code",
   "execution_count": 23,
   "metadata": {},
   "outputs": [
    {
     "data": {
      "text/plain": [
       "[(1, 11), (1, 7), (2, 12), (2, 10), (3, 17), (3, 16), (6, 1)]"
      ]
     },
     "execution_count": 23,
     "metadata": {},
     "output_type": "execute_result"
    }
   ],
   "source": [
    "problem2 = sorted(problem, key=lambda x: (x[0], -x[1]))\n",
    "problem2"
   ]
  },
  {
   "cell_type": "code",
   "execution_count": 13,
   "metadata": {},
   "outputs": [
    {
     "name": "stdout",
     "output_type": "stream",
     "text": [
      "32\n"
     ]
    }
   ],
   "source": [
    "deadline = 0\n",
    "result = 0\n",
    "for weight, value in problem:\n",
    "    if deadline < weight:\n",
    "        result += value\n",
    "        deadline += 1\n",
    "\n",
    "print(result)"
   ]
  },
  {
   "cell_type": "code",
   "execution_count": null,
   "metadata": {},
   "outputs": [],
   "source": [
    "n = int(input())\n",
    "\n",
    "problem = []\n",
    "\n",
    "for i in range(1, n + 1):\n",
    "    weight, value = map(int, input().split())\n",
    "    problem.append((weight, value))\n",
    "\n",
    "problem.sort(key=lambda x: (-x[1], x[0]))\n",
    "\n",
    "deadline = 0\n",
    "result = 0\n",
    "for weight, value in problem:\n",
    "    if deadline < weight:\n",
    "        result += value\n",
    "        deadline += 1\n",
    "\n",
    "print(result)"
   ]
  },
  {
   "cell_type": "markdown",
   "metadata": {},
   "source": [
    "## 좋은 풀이"
   ]
  },
  {
   "cell_type": "markdown",
   "metadata": {},
   "source": [
    "* 우선순위 큐를 사용하여 해결"
   ]
  },
  {
   "cell_type": "markdown",
   "metadata": {},
   "source": [
    "1. 문제 중 데드라인을 기준으로 오름차순 정렬\n",
    "2. 각 문제의 '컵라면 수'를 **우선순위 큐**에 넣으면서, **데드라인을 초과하는 경우에는 최소 원소를 제거**"
   ]
  },
  {
   "cell_type": "code",
   "execution_count": 25,
   "metadata": {},
   "outputs": [
    {
     "name": "stdout",
     "output_type": "stream",
     "text": [
      "7\n",
      "1 11\n",
      "1 7\n",
      "2 10\n",
      "2 12\n",
      "3 2\n",
      "3 17\n",
      "6 1\n",
      "41\n"
     ]
    }
   ],
   "source": [
    "import heapq\n",
    "\n",
    "n = int(input())\n",
    "array = []\n",
    "q = []\n",
    "\n",
    "# 문제 정보를 입력 받은 이후에, 데드라인을 기준으로 정렬\n",
    "for i in range(n):\n",
    "    a, b = map(int, input().split())\n",
    "    array.append((a, b))\n",
    "    \n",
    "array.sort()\n",
    "\n",
    "for i in array:\n",
    "    a = i[0]\n",
    "    heapq.heappush(q, i[1])\n",
    "    # 데드라인을 초과하는 경우에는 최소 원소를 제거\n",
    "    if a < len(q):\n",
    "        heapq.heappop(q)\n",
    "    \n",
    "print(sum(q))"
   ]
  },
  {
   "cell_type": "code",
   "execution_count": null,
   "metadata": {},
   "outputs": [],
   "source": []
  },
  {
   "cell_type": "code",
   "execution_count": null,
   "metadata": {},
   "outputs": [],
   "source": []
  }
 ],
 "metadata": {
  "kernelspec": {
   "display_name": "Python 3",
   "language": "python",
   "name": "python3"
  },
  "language_info": {
   "codemirror_mode": {
    "name": "ipython",
    "version": 3
   },
   "file_extension": ".py",
   "mimetype": "text/x-python",
   "name": "python",
   "nbconvert_exporter": "python",
   "pygments_lexer": "ipython3",
   "version": "3.8.3"
  }
 },
 "nbformat": 4,
 "nbformat_minor": 4
}
