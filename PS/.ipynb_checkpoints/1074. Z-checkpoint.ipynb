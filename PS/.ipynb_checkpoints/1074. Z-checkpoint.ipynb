{
 "cells": [
  {
   "cell_type": "markdown",
   "metadata": {},
   "source": [
    "## 1074. Z"
   ]
  },
  {
   "cell_type": "markdown",
   "metadata": {},
   "source": [
    "- 유형: 재귀 함수\n",
    "- 난이도: Medium"
   ]
  },
  {
   "cell_type": "markdown",
   "metadata": {},
   "source": [
    "## 내가 한 풀이 - 실패ㅠ..."
   ]
  },
  {
   "cell_type": "markdown",
   "metadata": {},
   "source": [
    "* 실패 이유: 어떻게 접근 해야 하는지는 알겠는데 구현을 못했다."
   ]
  },
  {
   "cell_type": "code",
   "execution_count": 15,
   "metadata": {},
   "outputs": [
    {
     "name": "stdout",
     "output_type": "stream",
     "text": [
      "1 1 1\n",
      "3\n"
     ]
    }
   ],
   "source": [
    "N, r, c = map(int, input().split(' '))\n",
    "\n",
    "length = 2**N\n",
    "board = [[0] * length for _ in range(length)]\n",
    "count = 0\n",
    "\n",
    "def recursive(length, board, count):\n",
    "    if length == 2:\n",
    "        for i in range(2):\n",
    "            for j in range(2):\n",
    "                board[i][j] = count\n",
    "                count += 1\n",
    "                if board[r][c] != 0:\n",
    "                    break\n",
    "            if board[r][c] != 0:\n",
    "                print(board[r][c])\n",
    "                break\n",
    "    \n",
    "    length /= 2\n",
    "    \n",
    "    for row in range(length):\n",
    "        for col in range(length):\n",
    "            recursive(length)\n",
    "        \n",
    "\n",
    "recursive(length, board, count)"
   ]
  },
  {
   "cell_type": "code",
   "execution_count": null,
   "metadata": {},
   "outputs": [],
   "source": []
  },
  {
   "cell_type": "markdown",
   "metadata": {},
   "source": [
    "## 좋은 풀이"
   ]
  },
  {
   "cell_type": "markdown",
   "metadata": {},
   "source": [
    "- Z 모양을 구성하는 4가지 방향에 대하여 차례대로 재귀적으로 호출\n",
    "- **생각해서 구현하기 힘들었던 부분: 4등분을 하고 각각의 시작위치를 넣어준다.**"
   ]
  },
  {
   "cell_type": "code",
   "execution_count": 18,
   "metadata": {},
   "outputs": [
    {
     "name": "stdout",
     "output_type": "stream",
     "text": [
      "3 7 7\n",
      "63\n"
     ]
    }
   ],
   "source": [
    "def solve(n, x, y):\n",
    "    global result\n",
    "    \n",
    "    if n == 2:\n",
    "        # 왼쪽 위\n",
    "        if x == X and y == Y:\n",
    "            print(result)\n",
    "            return\n",
    "        result += 1\n",
    "        \n",
    "        # 오른쪽 위\n",
    "        if x == X and y + 1 == Y:\n",
    "            print(result)\n",
    "            return\n",
    "        result += 1\n",
    "        \n",
    "        # 왼쪽 아래\n",
    "        if x + 1 == X and y == Y:\n",
    "            print(result)\n",
    "            return\n",
    "        result += 1\n",
    "        \n",
    "        # 오른쪽 아래\n",
    "        if x + 1 == X and y + 1 == Y:\n",
    "            print(result)\n",
    "            return\n",
    "        result += 1\n",
    "        return\n",
    "    \n",
    "    # 4등분을 하고 각각의 시작 위치를 넣어준다.\n",
    "    solve(n / 2, x, y)\n",
    "    solve(n / 2, x, y + n / 2)\n",
    "    solve(n / 2, x + n / 2, y)\n",
    "    solve(n / 2, x + n / 2, y + n / 2)\n",
    "\n",
    "    \n",
    "result = 0\n",
    "N, X, Y = map(int, input().split(' '))\n",
    "# (2**N 0, 0) - (0, 0)은 시작 위치\n",
    "solve(2**N, 0, 0)"
   ]
  },
  {
   "cell_type": "code",
   "execution_count": null,
   "metadata": {},
   "outputs": [],
   "source": []
  },
  {
   "cell_type": "code",
   "execution_count": null,
   "metadata": {},
   "outputs": [],
   "source": []
  }
 ],
 "metadata": {
  "kernelspec": {
   "display_name": "Python 3",
   "language": "python",
   "name": "python3"
  },
  "language_info": {
   "codemirror_mode": {
    "name": "ipython",
    "version": 3
   },
   "file_extension": ".py",
   "mimetype": "text/x-python",
   "name": "python",
   "nbconvert_exporter": "python",
   "pygments_lexer": "ipython3",
   "version": "3.7.7"
  }
 },
 "nbformat": 4,
 "nbformat_minor": 4
}
