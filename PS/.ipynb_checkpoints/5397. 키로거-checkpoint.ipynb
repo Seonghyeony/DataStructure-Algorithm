{
 "cells": [
  {
   "cell_type": "markdown",
   "metadata": {},
   "source": [
    "## 5397. 키로거"
   ]
  },
  {
   "cell_type": "markdown",
   "metadata": {},
   "source": [
    "- 유형: 스택, 구현, 그리디\n",
    "- 난이도: Medium"
   ]
  },
  {
   "cell_type": "markdown",
   "metadata": {},
   "source": [
    "## 내가 한 풀이 - 실패ㅠ"
   ]
  },
  {
   "cell_type": "markdown",
   "metadata": {},
   "source": [
    "- 실패 이유: 문자열 크기가 최대 1,000,000 이므로 시뮬레이션 방법으로는 풀 수 없다."
   ]
  },
  {
   "cell_type": "code",
   "execution_count": 16,
   "metadata": {},
   "outputs": [
    {
     "name": "stdout",
     "output_type": "stream",
     "text": [
      "1\n",
      "<<BP<A>>Cd-\n",
      "BAPC\n"
     ]
    }
   ],
   "source": [
    "test_case = int(input())\n",
    "\n",
    "for _ in range(test_case):\n",
    "    password = list(input())\n",
    "    stack = []\n",
    "    notWord = ['<', '>', '-']\n",
    "    \n",
    "    while len(password) != 0:\n",
    "        word = password.pop(0)\n",
    "        if len(stack) == 0:\n",
    "            if word in notWord:\n",
    "                continue\n",
    "            else:\n",
    "                stack.append(word)\n",
    "                continue\n",
    "        if word == notWord[0]:\n",
    "            if len(password) != 0 and password[0] not in notWord:\n",
    "                temp = stack.pop(-1)\n",
    "                stack.append(password.pop(0))\n",
    "                stack.append(temp)\n",
    "        elif word == notWord[1]:\n",
    "            continue\n",
    "        elif word == notWord[2]:\n",
    "            stack.pop(-1)\n",
    "        else:\n",
    "            stack.append(word)\n",
    "            \n",
    "    print(''.join(stack))"
   ]
  },
  {
   "cell_type": "code",
   "execution_count": 6,
   "metadata": {},
   "outputs": [],
   "source": [
    "notWord = [ '<', '>', '-' ]\n",
    "\n",
    "if 'B' in notWord:\n",
    "    print(True)"
   ]
  },
  {
   "cell_type": "markdown",
   "metadata": {},
   "source": [
    "## 좋은 풀이"
   ]
  },
  {
   "cell_type": "markdown",
   "metadata": {},
   "source": [
    "- 스택 2개를 활용해서 선형시간으로 만든다.\n",
    "- [--   커서   --] 방식으로 스택 2개를 활용\n",
    "    * [-- 는 스택"
   ]
  },
  {
   "cell_type": "code",
   "execution_count": 18,
   "metadata": {},
   "outputs": [
    {
     "name": "stdout",
     "output_type": "stream",
     "text": [
      "1\n",
      "<<BP<A>>Cd-\n",
      "BAPC\n"
     ]
    }
   ],
   "source": [
    "test_case = int(input())\n",
    "\n",
    "for _ in range(test_case):\n",
    "    left_stack = []\n",
    "    right_stack = []\n",
    "    password = input()\n",
    "    for word in password:\n",
    "        if word == '-':\n",
    "            if left_stack:    # 스택이 비어 있지 않을 때만.\n",
    "                left_stack.pop()\n",
    "        elif word == '<':\n",
    "            if left_stack:\n",
    "                right_stack.append(left_stack.pop())\n",
    "        elif word == '>':\n",
    "            if right_stack:\n",
    "                left_stack.append(right_stack.pop())\n",
    "        else:\n",
    "            left_stack.append(word)\n",
    "    \n",
    "    left_stack.extend(reversed(right_stack))\n",
    "    print(''.join(left_stack))"
   ]
  },
  {
   "cell_type": "code",
   "execution_count": null,
   "metadata": {},
   "outputs": [],
   "source": []
  }
 ],
 "metadata": {
  "kernelspec": {
   "display_name": "Python 3",
   "language": "python",
   "name": "python3"
  },
  "language_info": {
   "codemirror_mode": {
    "name": "ipython",
    "version": 3
   },
   "file_extension": ".py",
   "mimetype": "text/x-python",
   "name": "python",
   "nbconvert_exporter": "python",
   "pygments_lexer": "ipython3",
   "version": "3.7.7"
  }
 },
 "nbformat": 4,
 "nbformat_minor": 4
}
