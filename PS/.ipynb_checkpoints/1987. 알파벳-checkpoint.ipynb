{
 "cells": [
  {
   "cell_type": "markdown",
   "metadata": {},
   "source": [
    "## 1987. 알파벳"
   ]
  },
  {
   "cell_type": "markdown",
   "metadata": {},
   "source": [
    "- 유형: 백트래킹\n",
    "- 난이도: 중 40분"
   ]
  },
  {
   "cell_type": "markdown",
   "metadata": {},
   "source": [
    "## 내가 한 풀이 - "
   ]
  },
  {
   "cell_type": "code",
   "execution_count": 12,
   "metadata": {},
   "outputs": [
    {
     "name": "stdout",
     "output_type": "stream",
     "text": [
      "4 4\n",
      "CAAB\n",
      "ADCB\n",
      "RUWK\n",
      "DKWP\n"
     ]
    },
    {
     "data": {
      "text/plain": [
       "[['C', 'A', 'A', 'B'],\n",
       " ['A', 'D', 'C', 'B'],\n",
       " ['R', 'U', 'W', 'K'],\n",
       " ['D', 'K', 'W', 'P']]"
      ]
     },
     "execution_count": 12,
     "metadata": {},
     "output_type": "execute_result"
    }
   ],
   "source": [
    "r, c = map(int, input().split())\n",
    "\n",
    "board = list()\n",
    "\n",
    "for _ in range(r):\n",
    "    board.append(list(input()))\n",
    "    \n",
    "board"
   ]
  },
  {
   "cell_type": "code",
   "execution_count": 13,
   "metadata": {},
   "outputs": [
    {
     "name": "stdout",
     "output_type": "stream",
     "text": [
      "['C']\n",
      "['C', 'A']\n",
      "['C', 'A', 'R']\n",
      "['C', 'A', 'R', 'D']\n",
      "['C', 'A', 'R', 'D', 'K']\n",
      "['C', 'A', 'R', 'D', 'K', 'U']\n",
      "['C', 'A', 'R', 'D', 'K', 'U', 'W']\n",
      "['C', 'A', 'R', 'D', 'K', 'W']\n",
      "['C', 'A', 'R', 'D', 'K', 'W', 'P']\n",
      "['C', 'A', 'R', 'U']\n",
      "['C', 'A', 'R', 'U', 'K']\n",
      "['C', 'A', 'R', 'U', 'K', 'D']\n",
      "['C', 'A', 'R', 'U', 'K', 'W']\n",
      "['C', 'A', 'R', 'U', 'K', 'W', 'P']\n",
      "['C', 'A', 'R', 'U', 'D']\n",
      "['C', 'A', 'R', 'U', 'W']\n",
      "['C', 'A', 'R', 'U', 'W', 'K']\n",
      "['C', 'A', 'R', 'U', 'W', 'K', 'P']\n",
      "['C', 'A', 'R', 'U', 'W', 'K', 'B']\n",
      "['C', 'A', 'D']\n",
      "['C', 'A', 'D', 'U']\n",
      "['C', 'A', 'D', 'U', 'K']\n",
      "['C', 'A', 'D', 'U', 'K', 'W']\n",
      "['C', 'A', 'D', 'U', 'K', 'W', 'P']\n",
      "['C', 'A', 'D', 'U', 'R']\n",
      "['C', 'A', 'D', 'U', 'W']\n",
      "['C', 'A', 'D', 'U', 'W', 'K']\n",
      "['C', 'A', 'D', 'U', 'W', 'K', 'P']\n",
      "['C', 'A', 'D', 'U', 'W', 'K', 'B']\n",
      "['C', 'A']\n",
      "['C', 'A', 'D']\n",
      "['C', 'A', 'D', 'U']\n",
      "['C', 'A', 'D', 'U', 'K']\n",
      "['C', 'A', 'D', 'U', 'K', 'W']\n",
      "['C', 'A', 'D', 'U', 'K', 'W', 'P']\n",
      "['C', 'A', 'D', 'U', 'R']\n",
      "['C', 'A', 'D', 'U', 'W']\n",
      "['C', 'A', 'D', 'U', 'W', 'K']\n",
      "['C', 'A', 'D', 'U', 'W', 'K', 'P']\n",
      "['C', 'A', 'D', 'U', 'W', 'K', 'B']\n",
      "7\n"
     ]
    }
   ],
   "source": [
    "def check(x, y, candidate):\n",
    "    if board[y][x] not in candidate:\n",
    "        return True\n",
    "    else:\n",
    "        return False\n",
    "\n",
    "def dfs(x, y, candidate):\n",
    "    global result\n",
    "    print(candidate)\n",
    "    for i in range(4):\n",
    "        next_x = x + move_x[i]\n",
    "        next_y = y + move_y[i]\n",
    "\n",
    "        if next_x < 0 or next_x >= c or next_y < 0 or next_y >= r:\n",
    "            continue\n",
    "                \n",
    "        if check(next_x, next_y, candidate):\n",
    "            candidate.append(board[next_y][next_x])\n",
    "            result = max(result, len(candidate))\n",
    "            dfs(next_x, next_y, candidate)\n",
    "            \n",
    "    candidate.pop()\n",
    "    \n",
    "    \n",
    "    \n",
    "\n",
    "move_x = [0, 0, -1, 1]\n",
    "move_y = [1, -1, 0, 0]\n",
    "\n",
    "result = 1\n",
    "candidate = [board[0][0]]\n",
    "\n",
    "dfs(0, 0, candidate)\n",
    "\n",
    "print(result)"
   ]
  },
  {
   "cell_type": "code",
   "execution_count": null,
   "metadata": {},
   "outputs": [],
   "source": []
  },
  {
   "cell_type": "code",
   "execution_count": null,
   "metadata": {},
   "outputs": [],
   "source": []
  },
  {
   "cell_type": "code",
   "execution_count": null,
   "metadata": {},
   "outputs": [],
   "source": []
  },
  {
   "cell_type": "markdown",
   "metadata": {},
   "source": [
    "## 좋은 풀이"
   ]
  },
  {
   "cell_type": "markdown",
   "metadata": {},
   "source": []
  },
  {
   "cell_type": "code",
   "execution_count": null,
   "metadata": {},
   "outputs": [],
   "source": []
  },
  {
   "cell_type": "code",
   "execution_count": null,
   "metadata": {},
   "outputs": [],
   "source": []
  },
  {
   "cell_type": "code",
   "execution_count": null,
   "metadata": {},
   "outputs": [],
   "source": []
  }
 ],
 "metadata": {
  "kernelspec": {
   "display_name": "Python 3",
   "language": "python",
   "name": "python3"
  },
  "language_info": {
   "codemirror_mode": {
    "name": "ipython",
    "version": 3
   },
   "file_extension": ".py",
   "mimetype": "text/x-python",
   "name": "python",
   "nbconvert_exporter": "python",
   "pygments_lexer": "ipython3",
   "version": "3.7.7"
  }
 },
 "nbformat": 4,
 "nbformat_minor": 4
}
