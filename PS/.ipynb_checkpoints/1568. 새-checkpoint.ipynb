{
 "cells": [
  {
   "cell_type": "markdown",
   "metadata": {},
   "source": [
    "## 1568. 새"
   ]
  },
  {
   "cell_type": "markdown",
   "metadata": {},
   "source": [
    "- 유형: 탐색\n",
    "- 난이도: Easy"
   ]
  },
  {
   "cell_type": "markdown",
   "metadata": {},
   "source": [
    "## 내가 한 풀이 - 성공!"
   ]
  },
  {
   "cell_type": "code",
   "execution_count": 1,
   "metadata": {},
   "outputs": [
    {
     "name": "stdout",
     "output_type": "stream",
     "text": [
      "14\n",
      "7\n"
     ]
    }
   ],
   "source": [
    "n = int(input())\n",
    "\n",
    "k = 1\n",
    "result = 0\n",
    "\n",
    "while n > 0:\n",
    "    if n < k:\n",
    "        k = 1\n",
    "        continue  \n",
    "    n -= k\n",
    "    k += 1\n",
    "    result += 1\n",
    "    \n",
    "print(result)\n"
   ]
  },
  {
   "cell_type": "code",
   "execution_count": null,
   "metadata": {},
   "outputs": [],
   "source": []
  },
  {
   "cell_type": "markdown",
   "metadata": {},
   "source": [
    "## 좋은 풀이"
   ]
  },
  {
   "cell_type": "markdown",
   "metadata": {},
   "source": [
    "- N이 최대 1,000,000,000\n",
    "- 하지만 K가 반복적으로 증가(O(n^2))하므로, 날아가는 새의 마리 수는 빠르게 증가한다.\n",
    "- 따라서 문제에서 요구하는 대로 단순히 구현하여 정답 처리를 받을 수 있다.\n",
    "> 사실상 이 문제의 시간 복잡도는 O(루트n)이다."
   ]
  },
  {
   "cell_type": "code",
   "execution_count": null,
   "metadata": {},
   "outputs": [],
   "source": [
    "n = int(input())\n",
    "\n",
    "k = 1\n",
    "result = 0\n",
    "\n",
    "while n > 0:\n",
    "    if n < k:\n",
    "        k = 1\n",
    "        continue  \n",
    "    n -= k\n",
    "    k += 1\n",
    "    result += 1\n",
    "    \n",
    "print(result)         "
   ]
  },
  {
   "cell_type": "code",
   "execution_count": null,
   "metadata": {},
   "outputs": [],
   "source": []
  },
  {
   "cell_type": "code",
   "execution_count": null,
   "metadata": {},
   "outputs": [],
   "source": []
  }
 ],
 "metadata": {
  "kernelspec": {
   "display_name": "Python 3",
   "language": "python",
   "name": "python3"
  },
  "language_info": {
   "codemirror_mode": {
    "name": "ipython",
    "version": 3
   },
   "file_extension": ".py",
   "mimetype": "text/x-python",
   "name": "python",
   "nbconvert_exporter": "python",
   "pygments_lexer": "ipython3",
   "version": "3.7.7"
  }
 },
 "nbformat": 4,
 "nbformat_minor": 4
}
