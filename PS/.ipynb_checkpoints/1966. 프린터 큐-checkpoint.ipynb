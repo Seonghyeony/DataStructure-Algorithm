{
 "cells": [
  {
   "cell_type": "markdown",
   "metadata": {},
   "source": [
    "## 1966. 프린터 큐"
   ]
  },
  {
   "cell_type": "markdown",
   "metadata": {},
   "source": [
    "- 유형: 큐, 구현, 그리디\n",
    "- 난이도: Easy"
   ]
  },
  {
   "cell_type": "markdown",
   "metadata": {},
   "source": [
    "## 내가 한 풀이 - 성공! (문제를 잘 읽자)"
   ]
  },
  {
   "cell_type": "code",
   "execution_count": 22,
   "metadata": {},
   "outputs": [
    {
     "name": "stdout",
     "output_type": "stream",
     "text": [
      "3\n",
      "1 0\n",
      "5\n",
      "1\n",
      "4 2\n",
      "1 2 3 4\n",
      "2\n",
      "6 0\n",
      "1 1 9 1 1 1\n",
      "5\n"
     ]
    }
   ],
   "source": [
    "for T in range(int(input())):\n",
    "    N, M = map(int, input().split(' '))\n",
    "    data = list(map(int, input().split(' ')))\n",
    "    queue = []\n",
    "    count = 0\n",
    "    \n",
    "    for index in range(N):\n",
    "        queue.append([data[index], index])\n",
    "        \n",
    "    while queue:  \n",
    "        if queue[0][0] < max(queue)[0]:\n",
    "            queue.append(queue.pop(0))\n",
    "        else:\n",
    "            check = queue.pop(0)\n",
    "            count += 1\n",
    "            if check[1] == M:\n",
    "                print(count)\n",
    "                break"
   ]
  },
  {
   "cell_type": "markdown",
   "metadata": {},
   "source": [
    "## 좋은 풀이"
   ]
  },
  {
   "cell_type": "markdown",
   "metadata": {},
   "source": [
    "- 현재 리스트에서 가장 큰 수가 앞에 올 때까지 회전시킨 뒤 추출\n",
    "- **Enumerate** 사용"
   ]
  },
  {
   "cell_type": "code",
   "execution_count": null,
   "metadata": {},
   "outputs": [],
   "source": [
    "test_case = int(input())\n",
    "\n",
    "for _ in range(test_case):\n",
    "    n, m = list(map(int, input().split(' ')))\n",
    "    queue = list(map(int, input().split(' ')))\n",
    "    # Enumerate 사용\n",
    "    queue = [(i, idx) for idx, i in enumerate(queue)]\n",
    "    \n",
    "    count = 0\n",
    "    \n",
    "    while True:\n",
    "        if queue[0][0] == max(queue, key=lambda x: x[0])[0]:\n",
    "            count += 1\n",
    "            if queue[0][1] == m:\n",
    "                print(count)\n",
    "                break\n",
    "            else:\n",
    "                queue.pop(0)\n",
    "        else:\n",
    "            queue.append(queue.pop(0))"
   ]
  },
  {
   "cell_type": "code",
   "execution_count": null,
   "metadata": {},
   "outputs": [],
   "source": []
  }
 ],
 "metadata": {
  "kernelspec": {
   "display_name": "Python 3",
   "language": "python",
   "name": "python3"
  },
  "language_info": {
   "codemirror_mode": {
    "name": "ipython",
    "version": 3
   },
   "file_extension": ".py",
   "mimetype": "text/x-python",
   "name": "python",
   "nbconvert_exporter": "python",
   "pygments_lexer": "ipython3",
   "version": "3.7.7"
  }
 },
 "nbformat": 4,
 "nbformat_minor": 4
}
