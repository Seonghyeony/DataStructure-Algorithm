{
 "cells": [
  {
   "cell_type": "markdown",
   "metadata": {},
   "source": [
    "## 1236. 성 지키기"
   ]
  },
  {
   "cell_type": "markdown",
   "metadata": {},
   "source": [
    "- 유형: 탐색\n",
    "- 난이도: Easy"
   ]
  },
  {
   "cell_type": "markdown",
   "metadata": {},
   "source": [
    "## 내가 한 풀이 - 실패ㅠ => 아깝다... 좋은 풀이의 핵심 설명을 생각 못했다."
   ]
  },
  {
   "cell_type": "code",
   "execution_count": 43,
   "metadata": {},
   "outputs": [
    {
     "name": "stdout",
     "output_type": "stream",
     "text": [
      "3 3\n",
      "X X X\n",
      ". . .\n",
      ". . .\n",
      "2\n"
     ]
    }
   ],
   "source": [
    "def check_rows(row):\n",
    "    for i in range(m):\n",
    "        if castle[row][i] == 'X':\n",
    "            return False\n",
    "    return True\n",
    "\n",
    "def check_cols(col):\n",
    "    for i in range(n):\n",
    "        if castle[i][col] == 'X':\n",
    "            return False\n",
    "    return True\n",
    "\n",
    "n, m = map(int, input().split(' '))\n",
    "\n",
    "castle = []\n",
    "result = 0\n",
    "\n",
    "for i in range(n):\n",
    "    input_data = list(input().split(' '))\n",
    "    castle.append(input_data)\n",
    "    \n",
    "for i in range(n):\n",
    "    if 'X' not in castle[i]:\n",
    "        for j in range(m):\n",
    "            if check_cols(j):\n",
    "                castle[i][j] = 'X'\n",
    "                result += 1\n",
    "                break\n",
    "            \n",
    "    if 'X' not in castle[i]:\n",
    "        result += 1\n",
    "        \n",
    "print(result)\n",
    "        "
   ]
  },
  {
   "cell_type": "code",
   "execution_count": 17,
   "metadata": {},
   "outputs": [
    {
     "data": {
      "text/plain": [
       "2"
      ]
     },
     "execution_count": 17,
     "metadata": {},
     "output_type": "execute_result"
    }
   ],
   "source": [
    "data = ['.', '.', 'X', 'X']\n",
    "\n",
    "data.count('X')"
   ]
  },
  {
   "cell_type": "markdown",
   "metadata": {},
   "source": [
    "## 좋은 풀이"
   ]
  },
  {
   "cell_type": "markdown",
   "metadata": {},
   "source": [
    "- 행 기준, 열 기준으로 필요한 경비원의 수를 각각 계산하여 더 큰 수를 출력"
   ]
  },
  {
   "cell_type": "code",
   "execution_count": 48,
   "metadata": {},
   "outputs": [
    {
     "name": "stdout",
     "output_type": "stream",
     "text": [
      "3 3\n",
      ". . .\n",
      ". . .\n",
      ". . .\n",
      "3\n"
     ]
    }
   ],
   "source": [
    "n, m = map(int, input().split(' '))\n",
    "array = []\n",
    "\n",
    "for _ in range(n):\n",
    "    array.append(input())\n",
    "    \n",
    "row = [0] * n\n",
    "col = [0] * m\n",
    "\n",
    "for i in range(n):\n",
    "    for j in range(m):\n",
    "        if array[i][j] == 'X':\n",
    "            row[i] = 1\n",
    "            col[j] = 1\n",
    "            \n",
    "row_count = row.count(0)\n",
    "\n",
    "#for i in range(n):\n",
    "#    if row[i] == 0:\n",
    "#        row_count += 1\n",
    "        \n",
    "col_count = col.count(0)\n",
    "#for j in range(m):\n",
    "#    if col[j] == 0:\n",
    "#        col_count += 1\n",
    "        \n",
    "print(max(row_count, col_count))"
   ]
  },
  {
   "cell_type": "code",
   "execution_count": 46,
   "metadata": {},
   "outputs": [
    {
     "data": {
      "text/plain": [
       "1"
      ]
     },
     "execution_count": 46,
     "metadata": {},
     "output_type": "execute_result"
    }
   ],
   "source": [
    "ro = [0, 1, 1, 1]\n",
    "ro.count(0)"
   ]
  },
  {
   "cell_type": "code",
   "execution_count": null,
   "metadata": {},
   "outputs": [],
   "source": []
  }
 ],
 "metadata": {
  "kernelspec": {
   "display_name": "Python 3",
   "language": "python",
   "name": "python3"
  },
  "language_info": {
   "codemirror_mode": {
    "name": "ipython",
    "version": 3
   },
   "file_extension": ".py",
   "mimetype": "text/x-python",
   "name": "python",
   "nbconvert_exporter": "python",
   "pygments_lexer": "ipython3",
   "version": "3.7.7"
  }
 },
 "nbformat": 4,
 "nbformat_minor": 4
}
