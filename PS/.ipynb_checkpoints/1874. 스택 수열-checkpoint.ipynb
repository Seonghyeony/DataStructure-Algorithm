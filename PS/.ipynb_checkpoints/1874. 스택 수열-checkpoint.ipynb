{
 "cells": [
  {
   "cell_type": "markdown",
   "metadata": {},
   "source": [
    "## 1874. 스택 수열"
   ]
  },
  {
   "cell_type": "markdown",
   "metadata": {},
   "source": [
    "- 유형: 스택, 그리디\n",
    "- 난이도: Easy"
   ]
  },
  {
   "cell_type": "markdown",
   "metadata": {},
   "source": [
    "## 내가 한 풀이 - 성공!"
   ]
  },
  {
   "cell_type": "code",
   "execution_count": 1,
   "metadata": {},
   "outputs": [
    {
     "name": "stdout",
     "output_type": "stream",
     "text": [
      "8\n",
      "4\n",
      "3\n",
      "6\n",
      "8\n",
      "7\n",
      "5\n",
      "2\n",
      "1\n",
      "+\n",
      "+\n",
      "+\n",
      "+\n",
      "-\n",
      "-\n",
      "+\n",
      "+\n",
      "-\n",
      "+\n",
      "+\n",
      "-\n",
      "-\n",
      "-\n",
      "-\n",
      "-\n"
     ]
    }
   ],
   "source": [
    "n = int(input())\n",
    "data = list()\n",
    "\n",
    "for _ in range(n):\n",
    "    data.append(int(input()))\n",
    "\n",
    "stack = list()\n",
    "result = list()\n",
    "\n",
    "stack.append(1)\n",
    "result.append('+')\n",
    "count = 2\n",
    "\n",
    "for i in range(n):\n",
    "    if len(stack) != 0:\n",
    "        top = stack[-1]\n",
    "        if data[i] == top:\n",
    "            result.append('-')\n",
    "            stack.pop()\n",
    "            continue\n",
    "    \n",
    "    for j in range(count, n+1):\n",
    "        if j == data[i]:\n",
    "            result.append('+')\n",
    "            result.append('-')\n",
    "            count += 1\n",
    "            break\n",
    "        else:\n",
    "            stack.append(j)\n",
    "            result.append('+')\n",
    "            count += 1\n",
    "\n",
    "if len(stack) == 0:\n",
    "    print('\\n'.join(result))\n",
    "else:\n",
    "    print('NO')"
   ]
  },
  {
   "cell_type": "markdown",
   "metadata": {},
   "source": [
    "## 좋은 풀이"
   ]
  },
  {
   "cell_type": "markdown",
   "metadata": {},
   "source": [
    "- 스택에 넣을 때, 단순히 특정 수에 도달할 때까지 삽입하면 된다.\n",
    "- 스택에서 원소를 연달아 빼낼 때, 내림차순을 유지할 수 있는지 확인한다."
   ]
  },
  {
   "cell_type": "code",
   "execution_count": null,
   "metadata": {
    "collapsed": true
   },
   "outputs": [],
   "source": [
    "n = int(input())\n",
    "\n",
    "count = 1\n",
    "stack = []\n",
    "result = []\n",
    "\n",
    "for i in range(1, n + 1):\n",
    "    data = int(input())\n",
    "    while count <= data:\n",
    "        stack.append(count)\n",
    "        count += 1\n",
    "        result.append('+')\n",
    "    if stack[-1] == data:\n",
    "        stack.pop()\n",
    "        result.append('-')\n",
    "    else:\n",
    "        print('NO')\n",
    "        exit(0)\n",
    "        \n",
    "print('\\n'.join(result))"
   ]
  },
  {
   "cell_type": "code",
   "execution_count": null,
   "metadata": {},
   "outputs": [],
   "source": []
  }
 ],
 "metadata": {
  "kernelspec": {
   "display_name": "Python 3",
   "language": "python",
   "name": "python3"
  },
  "language_info": {
   "codemirror_mode": {
    "name": "ipython",
    "version": 3
   },
   "file_extension": ".py",
   "mimetype": "text/x-python",
   "name": "python",
   "nbconvert_exporter": "python",
   "pygments_lexer": "ipython3",
   "version": "3.7.7"
  }
 },
 "nbformat": 4,
 "nbformat_minor": 4
}
