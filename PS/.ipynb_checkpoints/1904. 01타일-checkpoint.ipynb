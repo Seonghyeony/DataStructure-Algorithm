{
 "cells": [
  {
   "cell_type": "markdown",
   "metadata": {},
   "source": [
    "## 1904. 01타일"
   ]
  },
  {
   "cell_type": "markdown",
   "metadata": {},
   "source": [
    "- 유형: DP\n",
    "- 난이도: Easy"
   ]
  },
  {
   "cell_type": "markdown",
   "metadata": {},
   "source": [
    "## 내가 한 풀이 - 성공!"
   ]
  },
  {
   "cell_type": "code",
   "execution_count": 19,
   "metadata": {},
   "outputs": [
    {
     "name": "stdout",
     "output_type": "stream",
     "text": [
      "4\n",
      "5\n"
     ]
    }
   ],
   "source": [
    "n = int(input())\n",
    "\n",
    "cache = [0 for _ in range(n + 1)]\n",
    "\n",
    "for index in range(1, n + 1):\n",
    "    if index == 1:\n",
    "        cache[index] = 1\n",
    "        continue\n",
    "    if index == 2:\n",
    "        cache[index] = 2\n",
    "        continue\n",
    "    \n",
    "    cache[index] = (cache[index-1] + cache[index-2]) % 15746\n",
    "    \n",
    "print(cache[n])"
   ]
  },
  {
   "cell_type": "code",
   "execution_count": null,
   "metadata": {},
   "outputs": [],
   "source": []
  },
  {
   "cell_type": "markdown",
   "metadata": {},
   "source": [
    "## 좋은 풀이"
   ]
  },
  {
   "cell_type": "markdown",
   "metadata": {},
   "source": [
    "#### 동적프로그래밍의 핵심은 한 번 계산한 값은 다시 계산하지 않는 것이다."
   ]
  },
  {
   "cell_type": "markdown",
   "metadata": {},
   "source": [
    "#### 동적 프로그래밍 문제를 풀이 위해서는 점화식(인접한 항들 사이의 관계식)을 세워야 한다."
   ]
  },
  {
   "cell_type": "markdown",
   "metadata": {},
   "source": [
    "* 두 가지 종류의 타일을 이용하여, N 길이의 수열을 만드는 모든 경우의 수를 구해야 한다.\n",
    "* N이 최대 1,000,000이므로 시간 복잡도 O(N)으로 해결해야 한다."
   ]
  },
  {
   "cell_type": "code",
   "execution_count": 21,
   "metadata": {},
   "outputs": [
    {
     "name": "stdout",
     "output_type": "stream",
     "text": [
      "2\n",
      "2\n"
     ]
    }
   ],
   "source": [
    "n = int(input())\n",
    "\n",
    "dp = [0] * 1000001\n",
    "dp[1] = 1\n",
    "dp[2] = 2\n",
    "\n",
    "for i in range(3, n + 1):\n",
    "    dp[i] = (dp[i - 2] + dp[i - 1]) % 15746\n",
    "    \n",
    "print(dp[n])"
   ]
  },
  {
   "cell_type": "code",
   "execution_count": null,
   "metadata": {},
   "outputs": [],
   "source": []
  },
  {
   "cell_type": "code",
   "execution_count": null,
   "metadata": {},
   "outputs": [],
   "source": []
  }
 ],
 "metadata": {
  "kernelspec": {
   "display_name": "Python 3",
   "language": "python",
   "name": "python3"
  },
  "language_info": {
   "codemirror_mode": {
    "name": "ipython",
    "version": 3
   },
   "file_extension": ".py",
   "mimetype": "text/x-python",
   "name": "python",
   "nbconvert_exporter": "python",
   "pygments_lexer": "ipython3",
   "version": "3.7.7"
  }
 },
 "nbformat": 4,
 "nbformat_minor": 4
}
