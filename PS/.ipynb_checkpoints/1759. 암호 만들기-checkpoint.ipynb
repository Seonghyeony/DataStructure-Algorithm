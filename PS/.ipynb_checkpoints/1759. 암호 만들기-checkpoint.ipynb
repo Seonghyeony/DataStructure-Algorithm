{
 "cells": [
  {
   "cell_type": "markdown",
   "metadata": {},
   "source": [
    "## 1759. 암호 만들기"
   ]
  },
  {
   "cell_type": "markdown",
   "metadata": {},
   "source": [
    "- 유형: 백트래킹\n",
    "- 난이도: 중 30분"
   ]
  },
  {
   "cell_type": "markdown",
   "metadata": {},
   "source": [
    "## 내가 한 풀이 - "
   ]
  },
  {
   "cell_type": "code",
   "execution_count": 15,
   "metadata": {},
   "outputs": [
    {
     "name": "stdout",
     "output_type": "stream",
     "text": [
      "4 6\n",
      "a t c i s w\n",
      "['a', 'c', 'i', 's', 't', 'w']\n"
     ]
    }
   ],
   "source": [
    "l, c = map(int, input().split())\n",
    "array = list(input().split())\n",
    "\n",
    "array.sort()\n",
    "print(array)"
   ]
  },
  {
   "cell_type": "code",
   "execution_count": 35,
   "metadata": {},
   "outputs": [
    {
     "name": "stdout",
     "output_type": "stream",
     "text": [
      "[['a', 'c', 'i', 's'], ['a', 'c', 'i', 't'], ['a', 'c', 'i', 'w'], ['a', 'c', 'i', 's', 't'], ['a', 'c', 'i', 's', 'w'], ['a', 'c', 'i', 's', 't', 'w']]\n"
     ]
    }
   ],
   "source": [
    "def check(current_data, candidate):\n",
    "    vowel = 0\n",
    "    consonant = 0\n",
    "    \n",
    "    if len(candidate) <= l:\n",
    "        return True\n",
    "    \n",
    "    for data in candidate:\n",
    "        if data in vowel_list:\n",
    "            vowel += 1\n",
    "        else:\n",
    "            consonant += 1\n",
    "            \n",
    "    if vowel >= 1 and consonant >= 2:\n",
    "        return True\n",
    "    else:\n",
    "        return False\n",
    "    \n",
    "    \n",
    "\n",
    "def solve(n, candidate):\n",
    "    global result\n",
    "    if n == l:\n",
    "        candidate.sort()\n",
    "        result.append(candidate[:])\n",
    "        return\n",
    "    \n",
    "    for i in range(len(array)):\n",
    "        if check(array[i], candidate):\n",
    "            solve(n + 1, candidate)\n",
    "            candidate.pop()\n",
    "        \n",
    "vowel_list = ['a', 'e', 'i', 'o', 'u']\n",
    "result = []\n",
    "solve(0, [])\n",
    "print(result)"
   ]
  },
  {
   "cell_type": "markdown",
   "metadata": {},
   "source": [
    "## 좋은 풀이"
   ]
  },
  {
   "cell_type": "markdown",
   "metadata": {},
   "source": []
  },
  {
   "cell_type": "code",
   "execution_count": 31,
   "metadata": {},
   "outputs": [
    {
     "name": "stdout",
     "output_type": "stream",
     "text": [
      "1\n"
     ]
    }
   ],
   "source": [
    "aa = ['a', 't', 'i']\n",
    "vowel = [['a', 'e', 'i'], ['o', 'u'], ['a', 't', 'i']]\n",
    "if aa in vowel:\n",
    "    print(1)"
   ]
  },
  {
   "cell_type": "code",
   "execution_count": null,
   "metadata": {},
   "outputs": [],
   "source": []
  },
  {
   "cell_type": "code",
   "execution_count": null,
   "metadata": {},
   "outputs": [],
   "source": []
  }
 ],
 "metadata": {
  "kernelspec": {
   "display_name": "Python 3",
   "language": "python",
   "name": "python3"
  },
  "language_info": {
   "codemirror_mode": {
    "name": "ipython",
    "version": 3
   },
   "file_extension": ".py",
   "mimetype": "text/x-python",
   "name": "python",
   "nbconvert_exporter": "python",
   "pygments_lexer": "ipython3",
   "version": "3.7.7"
  }
 },
 "nbformat": 4,
 "nbformat_minor": 4
}
