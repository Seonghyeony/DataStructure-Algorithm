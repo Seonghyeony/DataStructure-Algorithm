{
 "cells": [
  {
   "cell_type": "markdown",
   "metadata": {},
   "source": [
    "## 7490. 0 만들기"
   ]
  },
  {
   "cell_type": "markdown",
   "metadata": {},
   "source": [
    "- 유형: 재귀 함수\n",
    "- 난이도: Medium"
   ]
  },
  {
   "cell_type": "markdown",
   "metadata": {},
   "source": [
    "## 내가 한 풀이 - 실패ㅠ"
   ]
  },
  {
   "cell_type": "markdown",
   "metadata": {},
   "source": [
    "#### * 아직 재귀 함수 문제에 약한 것 같다."
   ]
  },
  {
   "cell_type": "code",
   "execution_count": 8,
   "metadata": {},
   "outputs": [
    {
     "name": "stdout",
     "output_type": "stream",
     "text": [
      "1\n",
      "3\n",
      "[1, 0, 2, 0, 3]\n"
     ]
    }
   ],
   "source": [
    "def solve(array, start):\n",
    "    if start == N-1:\n",
    "        return\n",
    "    \n",
    "    for index in range(1, N + 1, 2)\n",
    "        solve()\n",
    "            \n",
    "\n",
    "test_case = int(input())\n",
    "\n",
    "for _ in range(test_case):\n",
    "    N = int(input())\n",
    "    array = []\n",
    "    \n",
    "    for index in range(1, N+1):\n",
    "        if index != N:\n",
    "            array.append(index)\n",
    "            array.append(0)\n",
    "        else:\n",
    "            array.append(index)\n",
    "    \n",
    "    solve(array, 0)\n",
    "    \n",
    "    "
   ]
  },
  {
   "cell_type": "markdown",
   "metadata": {},
   "source": [
    "## 좋은 풀이"
   ]
  },
  {
   "cell_type": "markdown",
   "metadata": {},
   "source": [
    "- 수의 리스트와 연산자 리스트를 분리하여 모든 경우의 수를 계산"
   ]
  },
  {
   "cell_type": "markdown",
   "metadata": {},
   "source": [
    "> 가능한 모든 경우를 고려하여 연산자 리스트를 만드는 것이 관건.(재귀 함수 이용)\n",
    "\n",
    "> 파이썬의 **eval()** 함수를 이용하여 문자열 형태의 표현식을 계산할 수 있다. "
   ]
  },
  {
   "cell_type": "code",
   "execution_count": 11,
   "metadata": {},
   "outputs": [
    {
     "name": "stdout",
     "output_type": "stream",
     "text": [
      "1\n",
      "3\n",
      "1+2-3\n",
      "\n"
     ]
    }
   ],
   "source": [
    "import copy\n",
    "\n",
    "def recursive(array, n):\n",
    "    if len(array) == n:\n",
    "        # 여기서 copy 모듈의 deepcopy를 해서 해당 배열을 완전이 복사해야 한다.\n",
    "        operators_list.append(copy.deepcopy(array))\n",
    "        return\n",
    "    \n",
    "    array.append(' ')\n",
    "    recursive(array, n)\n",
    "    array.pop()\n",
    "    \n",
    "    array.append('+')\n",
    "    recursive(array, n)\n",
    "    array.pop()\n",
    "    \n",
    "    array.append('-')\n",
    "    recursive(array, n)\n",
    "    array.pop()\n",
    "\n",
    "test_case = int(input())\n",
    "\n",
    "for _ in range(test_case):\n",
    "    operators_list = []\n",
    "    N = int(input())\n",
    "    recursive([], N - 1)\n",
    "    \n",
    "    integers = [i for i in range(1, N + 1)]\n",
    "    \n",
    "    for operators in operators_list:\n",
    "        string = \"\"\n",
    "        for i in range(N - 1):\n",
    "            string += str(integers[i]) + operators[i]\n",
    "        string += str(integers[-1])\n",
    "        \n",
    "        if eval(string.replace(\" \", \"\")) == 0:\n",
    "            print(string)\n",
    "    print()\n",
    "    "
   ]
  },
  {
   "cell_type": "code",
   "execution_count": null,
   "metadata": {},
   "outputs": [],
   "source": []
  }
 ],
 "metadata": {
  "kernelspec": {
   "display_name": "Python 3",
   "language": "python",
   "name": "python3"
  },
  "language_info": {
   "codemirror_mode": {
    "name": "ipython",
    "version": 3
   },
   "file_extension": ".py",
   "mimetype": "text/x-python",
   "name": "python",
   "nbconvert_exporter": "python",
   "pygments_lexer": "ipython3",
   "version": "3.7.7"
  }
 },
 "nbformat": 4,
 "nbformat_minor": 4
}
