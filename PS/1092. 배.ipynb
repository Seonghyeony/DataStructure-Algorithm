{
 "cells": [
  {
   "cell_type": "markdown",
   "metadata": {},
   "source": [
    "## 1092. 배"
   ]
  },
  {
   "cell_type": "markdown",
   "metadata": {},
   "source": [
    "- 유형: 그리디\n",
    "- 난이도: 중 35분"
   ]
  },
  {
   "cell_type": "markdown",
   "metadata": {},
   "source": [
    "## 내가 한 풀이 - 실패! => 왜지? 답은 맞는데 => 예외 사례 있음. 틀림ㅠ"
   ]
  },
  {
   "cell_type": "markdown",
   "metadata": {},
   "source": [
    "### 박스를 옮겼는지에 대한 여부 리스트를 하나 더 만든다."
   ]
  },
  {
   "cell_type": "code",
   "execution_count": 23,
   "metadata": {},
   "outputs": [
    {
     "name": "stdout",
     "output_type": "stream",
     "text": [
      "3\n",
      "6 8 8\n",
      "8\n",
      "8 6 8 8 2 2 2 2\n",
      "[[8, 2, 2], [8, 8, 2], [6, 2]]\n",
      "3\n"
     ]
    }
   ],
   "source": [
    "n = int(input())\n",
    "\n",
    "crane = list(map(int, input().split()))\n",
    "\n",
    "crane.sort(reverse=True)\n",
    "\n",
    "m = int(input())\n",
    "\n",
    "box = list(map(int, input().split()))\n",
    "\n",
    "box.sort(reverse=True)\n",
    "\n",
    "plan = [[] for _ in range(n)]\n",
    "\n",
    "if crane[0] < box[0]:\n",
    "    print(-1)\n",
    "else:\n",
    "    index = 0\n",
    "    \n",
    "    while box:\n",
    "        if crane[index] < box[0]:\n",
    "            plan[index - 1].append(box[0])\n",
    "        else:\n",
    "            if len(plan[index]) > len(plan[(index + 1) % n]):\n",
    "                index += 1\n",
    "                plan[index].append(box[0])\n",
    "                index = (index + 1) % n\n",
    "            else:\n",
    "                plan[index].append(box[0])\n",
    "                index = (index + 1) % n\n",
    "            \n",
    "        box.pop(0)\n",
    "        \n",
    "    print(plan)\n",
    "        \n",
    "    result = 0\n",
    "    for i in range(n):\n",
    "        result = max(result, len(plan[i]))\n",
    "        \n",
    "    print(result)\n",
    "                \n",
    "\n"
   ]
  },
  {
   "cell_type": "code",
   "execution_count": null,
   "metadata": {},
   "outputs": [],
   "source": []
  },
  {
   "cell_type": "markdown",
   "metadata": {},
   "source": [
    "## 좋은 풀이"
   ]
  },
  {
   "cell_type": "markdown",
   "metadata": {},
   "source": [
    "* 박스를 무게 기준으로 내림차순 정렬한 뒤에, 무거운 것부터 옮긴다\n",
    "* 시간 복잡도 O(NM)에 문제를 해결 가능"
   ]
  },
  {
   "cell_type": "code",
   "execution_count": 25,
   "metadata": {},
   "outputs": [
    {
     "name": "stdout",
     "output_type": "stream",
     "text": [
      "3\n",
      "6 8 9\n",
      "5\n",
      "2 5 2 4 7\n",
      "[0, 0, 0]\n",
      "[1, 2, 3]\n",
      "2\n"
     ]
    }
   ],
   "source": [
    "import sys\n",
    "\n",
    "n = int(input())\n",
    "cranes = list(map(int, input().split()))\n",
    "\n",
    "m = int(input())\n",
    "boxes = list(map(int, input().split()))\n",
    "\n",
    "# 모든 박스를 옮길 수 없는 경우\n",
    "if max(cranes) < max(boxes):\n",
    "    print(-1)\n",
    "    sys.exit()\n",
    "    \n",
    "# 각 크레인이 현재 옮겨야 하는 박스의 번호 (0부터 시작)\n",
    "positions = [0] * n\n",
    "# 각 박스를 옮겼는지의 여부\n",
    "checked = [False] * m\n",
    "\n",
    "# 내림차순 정렬\n",
    "cranes.sort(reverse=True)\n",
    "boxes.sort(reverse=True)\n",
    "\n",
    "result = 0\n",
    "count = 0\n",
    "\n",
    "while True:\n",
    "    # 박스를 다 옮겼다면 종료\n",
    "    if count == len(boxes):\n",
    "        break\n",
    "        \n",
    "    # 모든 크레인에 대하여 각각 처리\n",
    "    for i in range(n):\n",
    "        while positions[i] < len(boxes):\n",
    "            # 아직 안 옮긴 박스 중에서, 옮길 수 있는 박스를 만날 때까지 반복\n",
    "            if not checked[positions[i]] and cranes[i] >= boxes[positions[i]]:\n",
    "                checked[positions[i]] = True\n",
    "                positions[i] += 1\n",
    "                count += 1\n",
    "                break\n",
    "\n",
    "            positions[i] += 1\n",
    "            \n",
    "    result += 1\n",
    "    \n",
    "print(result)"
   ]
  },
  {
   "cell_type": "code",
   "execution_count": null,
   "metadata": {},
   "outputs": [],
   "source": []
  },
  {
   "cell_type": "code",
   "execution_count": null,
   "metadata": {},
   "outputs": [],
   "source": []
  }
 ],
 "metadata": {
  "kernelspec": {
   "display_name": "Python 3",
   "language": "python",
   "name": "python3"
  },
  "language_info": {
   "codemirror_mode": {
    "name": "ipython",
    "version": 3
   },
   "file_extension": ".py",
   "mimetype": "text/x-python",
   "name": "python",
   "nbconvert_exporter": "python",
   "pygments_lexer": "ipython3",
   "version": "3.8.3"
  }
 },
 "nbformat": 4,
 "nbformat_minor": 4
}
