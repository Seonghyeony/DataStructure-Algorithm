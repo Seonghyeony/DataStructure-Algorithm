{
 "cells": [
  {
   "cell_type": "markdown",
   "metadata": {},
   "source": [
    "## 1012. 유기농 배추"
   ]
  },
  {
   "cell_type": "markdown",
   "metadata": {},
   "source": [
    "- 유형: DFS, BFS\n",
    "- 난이도: Easy"
   ]
  },
  {
   "cell_type": "markdown",
   "metadata": {},
   "source": [
    "## 내가 한 풀이 - 실패ㅠ.. -- 이거는 거의 다 했는데 너무 아깝다!"
   ]
  },
  {
   "cell_type": "code",
   "execution_count": 4,
   "metadata": {},
   "outputs": [
    {
     "name": "stdout",
     "output_type": "stream",
     "text": [
      "1\n",
      "5 3 6\n",
      "0 2\n",
      "1 2\n",
      "2 2\n",
      "3 2\n",
      "4 2\n",
      "4 0\n",
      "now_x:  4 now_y 0\n",
      "now_x:  0 now_y 2\n",
      "now_x:  1 now_y 2\n",
      "now_x:  2 now_y 2\n",
      "now_x:  3 now_y 2\n",
      "now_x:  4 now_y 2\n",
      "2\n"
     ]
    }
   ],
   "source": [
    "from collections import deque\n",
    "\n",
    "test_case = int(input())\n",
    "\n",
    "def check(x, y):\n",
    "    if x < 0 or x >= m:\n",
    "        return False\n",
    "    \n",
    "    if y < 0 or y >= n:\n",
    "        return False\n",
    "    \n",
    "    return True\n",
    "\n",
    "def bfs(start):\n",
    "    need_visit = deque()\n",
    "    need_visit.append(start)\n",
    "    \n",
    "    while need_visit:\n",
    "        now_x, now_y = need_visit.popleft()\n",
    "        if not visited[now_y][now_x]:\n",
    "            visited[now_y][now_x] = True\n",
    "            for i in range(4):\n",
    "                next_x = now_x + move_x[i]\n",
    "                next_y = now_y + move_y[i]\n",
    "                if check(next_x, next_y):\n",
    "                    if field[next_y][next_x] and not visited[next_y][next_x]:\n",
    "                        need_visit.append((next_x, next_y))\n",
    "    \n",
    "\n",
    "for _ in range(test_case):\n",
    "    m, n, k = map(int, input().split(' '))\n",
    "    \n",
    "    field = [[0] * (m) for _ in range(n)]\n",
    "    visited = [[False] * (m) for _ in range(n)]\n",
    "    \n",
    "    move_x = [1, -1, 0, 0]\n",
    "    move_y = [0, 0, -1, 1]\n",
    "    \n",
    "    result = 0\n",
    "    \n",
    "    for _ in range(k):\n",
    "        x, y = map(int, input().split(' '))\n",
    "        field[y][x] = 1\n",
    "    \n",
    "    for y in range(n):\n",
    "        for x in range(m):\n",
    "            if field[y][x] and not visited[y][x]:\n",
    "                result += 1\n",
    "                bfs((x, y))\n",
    "                \n",
    "    print(result)\n",
    "    \n",
    "    "
   ]
  },
  {
   "cell_type": "code",
   "execution_count": null,
   "metadata": {},
   "outputs": [],
   "source": []
  },
  {
   "cell_type": "markdown",
   "metadata": {},
   "source": [
    "## 좋은 풀이"
   ]
  },
  {
   "cell_type": "markdown",
   "metadata": {},
   "source": [
    "* 연결 요소의 개수를 세는 문제이다.\n",
    "* 모든 정점에 대하여 DFS 및 BFS를 수행하고, 한 번 방문한 정점은 다시 확인하지 않는다.\n",
    "* 전체적으로 **DFS 및 BFS를 수행한 총 횟수를 계산**한다.\n",
    "* DFS 및 BFS 응용 문제 중에서 출제 비중이 매우 높은 유형 중 하나이다.\n",
    "* DFS로 문제를 푸는 경우, sys 라이브러리의 setrecursionlimit() 함수 설정을 해줄 필요가 있다. -> **recursion 횟수 제한 늘리기**"
   ]
  },
  {
   "cell_type": "code",
   "execution_count": 3,
   "metadata": {},
   "outputs": [
    {
     "name": "stdout",
     "output_type": "stream",
     "text": [
      "1\n",
      "5 3 6\n",
      "0 2\n",
      "1 2\n",
      "2 2\n",
      "3 2\n",
      "4 2\n",
      "4 0\n",
      "2\n"
     ]
    }
   ],
   "source": [
    "import sys\n",
    "sys.setrecursionlimit(100000)\n",
    "\n",
    "def dfs(x, y):\n",
    "    visited[y][x] = True\n",
    "    directions = [(-1, 0), (1, 0), (0, -1), (0, 1)]\n",
    "    for dx, dy in directions:\n",
    "        nx, ny = x + dx, y + dy\n",
    "        if nx < 0 or nx >= m or ny < 0 or ny >= n:\n",
    "            continue\n",
    "        if array[ny][nx] and not visited[ny][nx]:\n",
    "            dfs(nx, ny)\n",
    "    \n",
    "for _ in range(int(input())):\n",
    "    m, n, k = map(int, input().split(' '))\n",
    "    array = [[0] * m for _ in range(n)]\n",
    "    visited = [[False] * m for _ in range(n)]\n",
    "    \n",
    "    for _ in range(k):\n",
    "        x, y = map(int, input().split(' '))\n",
    "        array[y][x] = 1\n",
    "        \n",
    "    result = 0\n",
    "    \n",
    "    for y in range(n):\n",
    "        for x in range(m):\n",
    "            if array[y][x] and not visited[y][x]:\n",
    "                dfs(x, y)\n",
    "                result += 1\n",
    "                \n",
    "    print(result)"
   ]
  },
  {
   "cell_type": "code",
   "execution_count": null,
   "metadata": {},
   "outputs": [],
   "source": []
  },
  {
   "cell_type": "code",
   "execution_count": null,
   "metadata": {},
   "outputs": [],
   "source": []
  }
 ],
 "metadata": {
  "kernelspec": {
   "display_name": "Python 3",
   "language": "python",
   "name": "python3"
  },
  "language_info": {
   "codemirror_mode": {
    "name": "ipython",
    "version": 3
   },
   "file_extension": ".py",
   "mimetype": "text/x-python",
   "name": "python",
   "nbconvert_exporter": "python",
   "pygments_lexer": "ipython3",
   "version": "3.7.7"
  }
 },
 "nbformat": 4,
 "nbformat_minor": 4
}
