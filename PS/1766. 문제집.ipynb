{
 "cells": [
  {
   "cell_type": "markdown",
   "metadata": {},
   "source": [
    "## 1766. 문제집"
   ]
  },
  {
   "cell_type": "markdown",
   "metadata": {},
   "source": [
    "- 유형: 힙, 위상정렬\n",
    "- 난이도: Medium"
   ]
  },
  {
   "cell_type": "markdown",
   "metadata": {},
   "source": [
    "## 내가 한 풀이 - 실패ㅠ"
   ]
  },
  {
   "cell_type": "code",
   "execution_count": 18,
   "metadata": {},
   "outputs": [
    {
     "name": "stdout",
     "output_type": "stream",
     "text": [
      "4 2\n",
      "4 2\n",
      "3 1\n",
      "3 1 4 2 "
     ]
    }
   ],
   "source": [
    "n, m = map(int, input().split(' '))\n",
    "\n",
    "queue = [0 for _ in range(n + 1)]\n",
    "graph = {}\n",
    "\n",
    "for i in range(1, n + 1):\n",
    "    queue[i] = i\n",
    "\n",
    "for _ in range(m):\n",
    "    a, b = map(int, input().split(' '))\n",
    "    graph[a] = b\n",
    "    queue[b] = 0\n",
    "    \n",
    "result = []\n",
    "    \n",
    "for data in queue:\n",
    "    if data == 0:\n",
    "        continue\n",
    "        \n",
    "    if data not in graph:\n",
    "        result.append(data)\n",
    "    else:\n",
    "        result.append(data)\n",
    "        result.append(graph[data])\n",
    "        \n",
    "for ret in result:\n",
    "    print(ret, end=' ')\n"
   ]
  },
  {
   "cell_type": "markdown",
   "metadata": {},
   "source": [
    "## 좋은 풀이"
   ]
  },
  {
   "cell_type": "markdown",
   "metadata": {},
   "source": [
    "- 본 문제는 전형적인 위상 정렬 문제이다.\n",
    "- 위상 정렬은 **순서가 정해져 있는 작업**을 차례로 수행해야 할 때, 순서를 결정해주는 알고리즘.\n",
    "- 위상 정렬의 시간 복잡도는 O(V+E) 로 해결 가능\n",
    "\n",
    "#### 위상 정렬(Topology Sort) 알고리즘\n",
    "\n",
    "> 1) 진입 차수가 0인 정점을 큐에 삽입\n",
    "\n",
    "> 2) 큐에서 원소를 꺼내 해당 원소와 간선을 제거\n",
    "\n",
    "> 3) 제거 이후 진입 차수가 0이 된 정점을 큐에 삽입\n",
    "\n",
    "> 4) 큐가 빌 때까지 2)-3) 과정을 반복"
   ]
  },
  {
   "cell_type": "code",
   "execution_count": 20,
   "metadata": {},
   "outputs": [
    {
     "name": "stdout",
     "output_type": "stream",
     "text": [
      "4 2\n",
      "4 2\n",
      "3 1\n",
      "[[], [], [], [1], [2]]\n",
      "[0, 1, 1, 0, 0]\n",
      "3 1 4 2 "
     ]
    }
   ],
   "source": [
    "import heapq\n",
    "\n",
    "n, m = map(int, input().split(' '))\n",
    "array = [[] for i in range(n + 1)]    # 각 노드가 어떤 노드와 연결이 되어 있는지 표시\n",
    "indegree = [0] * (n + 1)              # 각 노드의 진입 차수를 나타냄\n",
    "\n",
    "heap = []\n",
    "result = []\n",
    "\n",
    "for _ in range(m):\n",
    "    x, y = map(int, input().split(' '))\n",
    "    array[x].append(y)\n",
    "    indegree[y] += 1\n",
    "    \n",
    "for i in range(1, n + 1):\n",
    "    if indegree[i] == 0:\n",
    "        heapq.heappush(heap, i)\n",
    "        \n",
    "while heap:\n",
    "    data = heapq.heappop(heap)\n",
    "    result.append(data)\n",
    "    for y in array[data]:\n",
    "        indegree[y] -= 1\n",
    "        if indegree[y] == 0:\n",
    "            heapq.heappush(heap, y)\n",
    "            \n",
    "for i in result:\n",
    "    print(i, end=' ')"
   ]
  },
  {
   "cell_type": "code",
   "execution_count": null,
   "metadata": {},
   "outputs": [],
   "source": []
  },
  {
   "cell_type": "code",
   "execution_count": null,
   "metadata": {},
   "outputs": [],
   "source": []
  }
 ],
 "metadata": {
  "kernelspec": {
   "display_name": "Python 3",
   "language": "python",
   "name": "python3"
  },
  "language_info": {
   "codemirror_mode": {
    "name": "ipython",
    "version": 3
   },
   "file_extension": ".py",
   "mimetype": "text/x-python",
   "name": "python",
   "nbconvert_exporter": "python",
   "pygments_lexer": "ipython3",
   "version": "3.7.7"
  }
 },
 "nbformat": 4,
 "nbformat_minor": 4
}
