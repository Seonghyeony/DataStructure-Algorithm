{
 "cells": [
  {
   "cell_type": "markdown",
   "metadata": {},
   "source": [
    "## 9663. N-Queen"
   ]
  },
  {
   "cell_type": "markdown",
   "metadata": {},
   "source": [
    "- 유형: 백트래킹\n",
    "- 난이도: 중 40분"
   ]
  },
  {
   "cell_type": "markdown",
   "metadata": {},
   "source": [
    "## 내가 한 풀이 - 강의 다시 한번 듣고 성공!!!"
   ]
  },
  {
   "cell_type": "code",
   "execution_count": 14,
   "metadata": {},
   "outputs": [
    {
     "name": "stdout",
     "output_type": "stream",
     "text": [
      "4\n",
      "2\n"
     ]
    }
   ],
   "source": [
    "def is_available(current_candidate, current_col):\n",
    "    current_row = len(current_candidate)\n",
    "    for queen_row in range(current_row):\n",
    "        if current_candidate[queen_row] == current_col or abs(current_candidate[queen_row] - current_col) == current_row - queen_row:\n",
    "            return False\n",
    "    return True\n",
    "\n",
    "def DFS(N, current_row, current_candidate, final_result):\n",
    "    if current_row == N:\n",
    "        final_result.append(1)\n",
    "        return\n",
    "    \n",
    "    for current_col in range(N):\n",
    "        if is_available(current_candidate, current_col):\n",
    "            current_candidate.append(current_col)\n",
    "            DFS(N, current_row + 1, current_candidate, final_result)\n",
    "            current_candidate.pop()\n",
    "\n",
    "def n_queen_solve(N):\n",
    "    final_result = []\n",
    "    DFS(N, 0, [], final_result)\n",
    "    print(len(final_result))\n",
    "    return\n",
    "    \n",
    "    \n",
    "n_queen_solve(int(input()))"
   ]
  },
  {
   "cell_type": "code",
   "execution_count": null,
   "metadata": {},
   "outputs": [],
   "source": []
  },
  {
   "cell_type": "markdown",
   "metadata": {},
   "source": [
    "## 좋은 풀이"
   ]
  },
  {
   "cell_type": "markdown",
   "metadata": {},
   "source": [
    "* 대표적인 백트래킹 문제\n",
    "* DFS를 이용하여 간단히 백트래킹 알고리즘을 구현 가능"
   ]
  },
  {
   "cell_type": "code",
   "execution_count": 15,
   "metadata": {},
   "outputs": [
    {
     "name": "stdout",
     "output_type": "stream",
     "text": [
      "4\n",
      "2\n"
     ]
    }
   ],
   "source": [
    "def check(x):\n",
    "    # 이전 행에서 놓았던 모든 Queen들을 확인\n",
    "    for i in range(x):\n",
    "        # 위쪽 혹은 대각선을 확인\n",
    "        if row[x] == row[i]:\n",
    "            return False\n",
    "        if abs(row[x] - row[i]) == x - i:\n",
    "            return False\n",
    "    return True\n",
    "\n",
    "def dfs(x):\n",
    "    global result\n",
    "    if x == n:\n",
    "        result += 1\n",
    "    else:\n",
    "        # x번째 행의 각 열에 Queen을 둔다고 가정\n",
    "        for i in range(n):\n",
    "            row[x] = i\n",
    "            # 해당 위치에 Queen을 두어도 괜찮은 경우\n",
    "            if check(x):\n",
    "                # 다음 행으로 넘어가기\n",
    "                dfs(x + 1)\n",
    "\n",
    "n = int(input())\n",
    "row = [0] * n\n",
    "result = 0\n",
    "dfs(0)\n",
    "print(result)"
   ]
  },
  {
   "cell_type": "code",
   "execution_count": null,
   "metadata": {},
   "outputs": [],
   "source": []
  },
  {
   "cell_type": "code",
   "execution_count": null,
   "metadata": {},
   "outputs": [],
   "source": []
  }
 ],
 "metadata": {
  "kernelspec": {
   "display_name": "Python 3",
   "language": "python",
   "name": "python3"
  },
  "language_info": {
   "codemirror_mode": {
    "name": "ipython",
    "version": 3
   },
   "file_extension": ".py",
   "mimetype": "text/x-python",
   "name": "python",
   "nbconvert_exporter": "python",
   "pygments_lexer": "ipython3",
   "version": "3.7.7"
  }
 },
 "nbformat": 4,
 "nbformat_minor": 4
}
