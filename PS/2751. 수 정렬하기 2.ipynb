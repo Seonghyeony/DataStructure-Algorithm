{
 "cells": [
  {
   "cell_type": "markdown",
   "metadata": {},
   "source": [
    "## 2751. 수 정렬하기 2"
   ]
  },
  {
   "cell_type": "markdown",
   "metadata": {},
   "source": [
    "- 유형: 정렬\n",
    "- 난이도: Easy"
   ]
  },
  {
   "cell_type": "markdown",
   "metadata": {},
   "source": [
    "## 내가 한 풀이 - 성공!"
   ]
  },
  {
   "cell_type": "code",
   "execution_count": 1,
   "metadata": {},
   "outputs": [
    {
     "name": "stdout",
     "output_type": "stream",
     "text": [
      "5\n",
      "5\n",
      "4\n",
      "3\n",
      "2\n",
      "1\n",
      "1\n",
      "2\n",
      "3\n",
      "4\n",
      "5\n"
     ]
    }
   ],
   "source": [
    "test_case = int(input())\n",
    "\n",
    "array = []\n",
    "\n",
    "for _ in range(test_case):\n",
    "    input_data = int(input())\n",
    "    array.append(input_data)\n",
    "    \n",
    "array.sort()\n",
    "\n",
    "for data in array:\n",
    "    print(data)"
   ]
  },
  {
   "cell_type": "code",
   "execution_count": null,
   "metadata": {},
   "outputs": [],
   "source": []
  },
  {
   "cell_type": "markdown",
   "metadata": {},
   "source": [
    "## 좋은 풀이"
   ]
  },
  {
   "cell_type": "markdown",
   "metadata": {},
   "source": [
    "- 데이터의 개수가 최대 1,000,000개\n",
    "- 시간복잡도 O(NlogN)의 정렬 알고리즘을 이용해야 함.\n",
    "- 고급 정렬 알고리즘(**병합**, 퀵, **힙** 정렬 등) 을 이용하여 문제 해결\n",
    "- 혹은 파이썬의 **기본 정렬 라이브러리** 를 이용하여 풀 수 있다.\n",
    "- **메모리가 허용된다면, 되도록 Python3 보다는 PyPy3를 선택하여 코드를 제출.**"
   ]
  },
  {
   "cell_type": "markdown",
   "metadata": {},
   "source": [
    "> 여기서는 **병합정렬** 로 풀이"
   ]
  },
  {
   "cell_type": "code",
   "execution_count": 5,
   "metadata": {},
   "outputs": [
    {
     "name": "stdout",
     "output_type": "stream",
     "text": [
      "5\n",
      "5\n",
      "4\n",
      "3\n",
      "2\n",
      "1\n",
      "1\n",
      "2\n",
      "3\n",
      "4\n",
      "5\n"
     ]
    }
   ],
   "source": [
    "def merge_sort(array):\n",
    "    if len(array) <= 1:\n",
    "        return array\n",
    "    \n",
    "    mid = len(array) // 2\n",
    "    left = merge_sort(array[:mid])\n",
    "    right = merge_sort(array[mid:])\n",
    "    \n",
    "    merged = list()\n",
    "    left_index, right_index = 0, 0\n",
    "    \n",
    "    while left_index < len(left) and right_index < len(right):\n",
    "        if left[left_index] < right[right_index]:\n",
    "            merged.append(left[left_index])\n",
    "            left_index += 1\n",
    "        else:\n",
    "            merged.append(right[right_index])\n",
    "            right_index += 1\n",
    "        \n",
    "    while left_index < len(left):\n",
    "        merged.append(left[left_index])\n",
    "        left_index += 1\n",
    "        \n",
    "    while right_index < len(right):\n",
    "        merged.append(right[right_index])\n",
    "        right_index += 1\n",
    "        \n",
    "    return merged\n",
    "\n",
    "n = int(input())\n",
    "array = []\n",
    "\n",
    "for _ in range(n):\n",
    "    array.append(int(input()))\n",
    "    \n",
    "array = merge_sort(array)\n",
    "\n",
    "for data in array:\n",
    "    print(data)"
   ]
  },
  {
   "cell_type": "code",
   "execution_count": null,
   "metadata": {},
   "outputs": [],
   "source": []
  },
  {
   "cell_type": "code",
   "execution_count": null,
   "metadata": {},
   "outputs": [],
   "source": []
  }
 ],
 "metadata": {
  "kernelspec": {
   "display_name": "Python 3",
   "language": "python",
   "name": "python3"
  },
  "language_info": {
   "codemirror_mode": {
    "name": "ipython",
    "version": 3
   },
   "file_extension": ".py",
   "mimetype": "text/x-python",
   "name": "python",
   "nbconvert_exporter": "python",
   "pygments_lexer": "ipython3",
   "version": "3.7.7"
  }
 },
 "nbformat": 4,
 "nbformat_minor": 4
}
