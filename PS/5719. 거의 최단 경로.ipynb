{
 "cells": [
  {
   "cell_type": "markdown",
   "metadata": {},
   "source": [
    "## 5719. 거의 최단 경로"
   ]
  },
  {
   "cell_type": "markdown",
   "metadata": {},
   "source": [
    "- 유형: 다익스트라 최단 경로\n",
    "- 난이도: Medium 50분"
   ]
  },
  {
   "cell_type": "markdown",
   "metadata": {},
   "source": [
    "## 내가 한 풀이 - 실패....ㅠ => 풀이의 핵심 아이디어는 알았는데 구현 실패"
   ]
  },
  {
   "cell_type": "code",
   "execution_count": 12,
   "metadata": {},
   "outputs": [
    {
     "name": "stdout",
     "output_type": "stream",
     "text": [
      "4 6\n",
      "0 2\n",
      "0 1 1\n",
      "1 2 1\n",
      "1 3 1\n",
      "3 2 1\n",
      "2 0 3\n",
      "3 0 2\n",
      "adj =  [[(1, 1)], [(2, 1), (3, 1)], [(0, 3)], [(2, 1), (0, 2)]]\n",
      "distances =  [0, 1, 2, 2]\n",
      "path =  [[], [(0, 1)], [(0, 1), (1, 2)], [(0, 1), (1, 3)]]\n",
      "0 0\n"
     ]
    }
   ],
   "source": [
    "import heapq\n",
    "\n",
    "def dijkstra(graph, start, destination):\n",
    "    distances[start] = 0\n",
    "    queue = []\n",
    "    heapq.heappush(queue, [distances[start], start])\n",
    "    \n",
    "    while queue:\n",
    "        current_distance, current_node = heapq.heappop(queue)\n",
    "        \n",
    "        if distances[current_node] < current_distance:\n",
    "            continue\n",
    "            \n",
    "        for adjacent, weight in graph[current_node]:\n",
    "            distance = current_distance + weight\n",
    "            if distance < distances[adjacent]:\n",
    "                distances[adjacent] = distance\n",
    "                if len(path[adjacent]) != 0:\n",
    "                    path[adjacent].pop()\n",
    "                \n",
    "                path[adjacent].extend(path[current_node])\n",
    "                path[adjacent].append((current_node, adjacent))\n",
    "                heapq.heappush(queue, [distance, adjacent])\n",
    "\n",
    "while True:\n",
    "    n, m = map(int, input().split())\n",
    "    \n",
    "    if n == 0 and m == 0:\n",
    "        break\n",
    "    \n",
    "    start, destination = map(int, input().split())\n",
    "\n",
    "    adj = [[] for _ in range(n)]\n",
    "    distances = [float('inf')] * (n)\n",
    "    path = [[] for _ in range(n)]\n",
    "\n",
    "    for i in range(m):\n",
    "        x, y, cost = map(int, input().split())\n",
    "        adj[x].append((y, cost))\n",
    "        \n",
    "    print(\"adj = \", adj)\n",
    "    \n",
    "    dijkstra(adj, start, destination)\n",
    "    \n",
    "    print(\"distances = \", distances)\n",
    "    print(\"path = \", path)"
   ]
  },
  {
   "cell_type": "code",
   "execution_count": null,
   "metadata": {},
   "outputs": [],
   "source": [
    "import heapq\n",
    "\n",
    "def dijkstra(graph, start, destination):\n",
    "    distances[start] = 0\n",
    "    queue = []\n",
    "    heapq.heappush(queue, [distances[start], start])\n",
    "    \n",
    "    while queue:\n",
    "        current_distance, current_node = heapq.heappop(queue)\n",
    "        \n",
    "        if distances[current_node] < current_distance:\n",
    "            continue\n",
    "            \n",
    "        for adjacent, weight in graph[current_node]:\n",
    "            distance = current_distance + weight\n",
    "            if distance < distances[adjacent]:\n",
    "                distances[adjacent] = distance\n",
    "                \n",
    "                del path[adjacent][:]\n",
    "                \n",
    "                path[adjacent].extend(path[current_node])\n",
    "                path[adjacent].append((current_node, adjacent))\n",
    "                heapq.heappush(queue, [distance, adjacent])\n",
    "\n",
    "while True:\n",
    "    n, m = map(int, input().split())\n",
    "    \n",
    "    if n == 0 and m == 0:\n",
    "        break\n",
    "    \n",
    "    start, destination = map(int, input().split())\n",
    "\n",
    "    adj = [[] for _ in range(n)]\n",
    "    distances = [float('inf')] * (n)\n",
    "    path = [[] for _ in range(n)]\n",
    "\n",
    "    for i in range(m):\n",
    "        x, y, cost = map(int, input().split())\n",
    "        adj[x].append((y, cost))\n",
    "        \n",
    "    print(\"adj = \", adj)\n",
    "    \n",
    "    dijkstra(adj, start, destination)\n",
    "    \n",
    "    print(\"distances = \", distances)\n",
    "    print(\"path = \", path)"
   ]
  },
  {
   "cell_type": "code",
   "execution_count": null,
   "metadata": {},
   "outputs": [],
   "source": []
  },
  {
   "cell_type": "code",
   "execution_count": null,
   "metadata": {},
   "outputs": [],
   "source": []
  },
  {
   "cell_type": "markdown",
   "metadata": {},
   "source": [
    "## 좋은 풀이"
   ]
  },
  {
   "cell_type": "markdown",
   "metadata": {},
   "source": [
    "* 다익스트라 최단 경로 알고리즘을 수행\n",
    "* 다익스트라 최단 경로에 포함되는 **모든 간선을 추적**해야 한다\n",
    "* 초기 최단 경로에 포함된 간선을 제외한 뒤에, 다시 최단 경로를 탐색\n",
    "> 다익스트라를 두 번 돌리면 된다."
   ]
  },
  {
   "cell_type": "markdown",
   "metadata": {},
   "source": [
    "### 중요!! BFS를 이용하여 최단 경로에 포함되어 있는 모든 간선을 역으로 추적할 수 있다.\n",
    "> 마지막 노드를 시작으로 역으로 추적"
   ]
  },
  {
   "cell_type": "code",
   "execution_count": 1,
   "metadata": {},
   "outputs": [
    {
     "name": "stdout",
     "output_type": "stream",
     "text": [
      "4 6\n",
      "0 2\n",
      "0 1 1\n",
      "1 2 1\n",
      "1 3 1\n",
      "3 2 1\n",
      "2 0 3\n",
      "3 0 2\n"
     ]
    },
    {
     "ename": "NameError",
     "evalue": "name 'current_node' is not defined",
     "output_type": "error",
     "traceback": [
      "\u001b[0;31m---------------------------------------------------------------------------\u001b[0m",
      "\u001b[0;31mNameError\u001b[0m                                 Traceback (most recent call last)",
      "\u001b[0;32m<ipython-input-1-ab03b9ab64d2>\u001b[0m in \u001b[0;36m<module>\u001b[0;34m\u001b[0m\n\u001b[1;32m     49\u001b[0m \u001b[0;34m\u001b[0m\u001b[0m\n\u001b[1;32m     50\u001b[0m     \u001b[0mdistance\u001b[0m \u001b[0;34m=\u001b[0m \u001b[0;34m[\u001b[0m\u001b[0;36m1e9\u001b[0m\u001b[0;34m]\u001b[0m \u001b[0;34m*\u001b[0m \u001b[0;34m(\u001b[0m\u001b[0mn\u001b[0m \u001b[0;34m+\u001b[0m \u001b[0;36m1\u001b[0m\u001b[0;34m)\u001b[0m\u001b[0;34m\u001b[0m\u001b[0;34m\u001b[0m\u001b[0m\n\u001b[0;32m---> 51\u001b[0;31m     \u001b[0mdijkstra\u001b[0m\u001b[0;34m(\u001b[0m\u001b[0;34m)\u001b[0m\u001b[0;34m\u001b[0m\u001b[0;34m\u001b[0m\u001b[0m\n\u001b[0m\u001b[1;32m     52\u001b[0m \u001b[0;34m\u001b[0m\u001b[0m\n\u001b[1;32m     53\u001b[0m     \u001b[0mbfs\u001b[0m\u001b[0;34m(\u001b[0m\u001b[0;34m)\u001b[0m\u001b[0;34m\u001b[0m\u001b[0;34m\u001b[0m\u001b[0m\n",
      "\u001b[0;32m<ipython-input-1-ab03b9ab64d2>\u001b[0m in \u001b[0;36mdijkstra\u001b[0;34m()\u001b[0m\n\u001b[1;32m     14\u001b[0m             \u001b[0;32mcontinue\u001b[0m\u001b[0;34m\u001b[0m\u001b[0;34m\u001b[0m\u001b[0m\n\u001b[1;32m     15\u001b[0m \u001b[0;34m\u001b[0m\u001b[0m\n\u001b[0;32m---> 16\u001b[0;31m         \u001b[0;32mfor\u001b[0m \u001b[0madjacent\u001b[0m\u001b[0;34m,\u001b[0m \u001b[0mweight\u001b[0m \u001b[0;32min\u001b[0m \u001b[0madj\u001b[0m\u001b[0;34m[\u001b[0m\u001b[0mcurrent_node\u001b[0m\u001b[0;34m]\u001b[0m\u001b[0;34m:\u001b[0m\u001b[0;34m\u001b[0m\u001b[0;34m\u001b[0m\u001b[0m\n\u001b[0m\u001b[1;32m     17\u001b[0m             \u001b[0mcost\u001b[0m \u001b[0;34m=\u001b[0m \u001b[0mdist\u001b[0m \u001b[0;34m+\u001b[0m \u001b[0mweight\u001b[0m\u001b[0;34m\u001b[0m\u001b[0;34m\u001b[0m\u001b[0m\n\u001b[1;32m     18\u001b[0m             \u001b[0;32mif\u001b[0m \u001b[0mdistance\u001b[0m\u001b[0;34m[\u001b[0m\u001b[0madjacent\u001b[0m\u001b[0;34m]\u001b[0m \u001b[0;34m>\u001b[0m \u001b[0mcost\u001b[0m \u001b[0;32mand\u001b[0m \u001b[0;32mnot\u001b[0m \u001b[0mdropped\u001b[0m\u001b[0;34m[\u001b[0m\u001b[0mnow\u001b[0m\u001b[0;34m]\u001b[0m\u001b[0;34m[\u001b[0m\u001b[0madjacent\u001b[0m\u001b[0;34m]\u001b[0m\u001b[0;34m:\u001b[0m\u001b[0;34m\u001b[0m\u001b[0;34m\u001b[0m\u001b[0m\n",
      "\u001b[0;31mNameError\u001b[0m: name 'current_node' is not defined"
     ]
    }
   ],
   "source": [
    "from collections import deque\n",
    "import heapq\n",
    "# import sys\n",
    "# input = sys.stdin.readline\n",
    "\n",
    "def dijkstra():\n",
    "    queue = []\n",
    "    heapq.heappush(queue, (0, start))\n",
    "    distance[start] = 0\n",
    "    \n",
    "    while queue:\n",
    "        dist, now = heapq.heappop(queue)\n",
    "        if distance[now] < dist:\n",
    "            continue\n",
    "            \n",
    "        for adjacent, weight in adj[now]:\n",
    "            cost = dist + weight\n",
    "            if distance[adjacent] > cost and not dropped[now][adjacent]:\n",
    "                distance[adjacent] = cost\n",
    "                heapq.heappush(queue, (cost, adjacent))\n",
    "                \n",
    "def bfs():\n",
    "    queue = deque()\n",
    "    queue.append(end)\n",
    "    while queue:\n",
    "        now = queue.popleft()\n",
    "        if now == start:\n",
    "            continue\n",
    "        for prev, cost in reverse_adj[now]:\n",
    "            if distance[now] == distance[prev] + cost:\n",
    "                dropped[prev][now] = True\n",
    "                queue.append(prev)\n",
    "\n",
    "while True:\n",
    "    n, m = map(int, input().split())\n",
    "    if n == 0:\n",
    "        break\n",
    "        \n",
    "    start, end = map(int, input().split())\n",
    "    adj = [[] for _ in range(n + 1)]\n",
    "    reverse_adj = [[] for _ in range(n + 1)]    # BFS로 역추적 할 때의 간선 정보\n",
    "    \n",
    "    for _ in range(m):\n",
    "        x, y, cost = map(int, input().split())\n",
    "        adj[x].append((y, cost))\n",
    "        reverse_adj[y].append((x, cost))        # 그래서 반대로도 간선 정보를 저장한다.\n",
    "    \n",
    "    dropped = [[False] * (n + 1) for _ in range(n + 1)]    # 제외할 간선 표시하기 위한 배열\n",
    "    \n",
    "    distance = [1e9] * (n + 1)\n",
    "    dijkstra()\n",
    "    \n",
    "    bfs()\n",
    "    \n",
    "    distance = [1e9] * (n + 1)\n",
    "    dijkstra()\n",
    "    \n",
    "    if distance[end] != 1e9:\n",
    "        print(distance[end])\n",
    "    else:\n",
    "        print(-1)\n",
    "    "
   ]
  },
  {
   "cell_type": "code",
   "execution_count": null,
   "metadata": {},
   "outputs": [],
   "source": []
  }
 ],
 "metadata": {
  "kernelspec": {
   "display_name": "Python 3",
   "language": "python",
   "name": "python3"
  },
  "language_info": {
   "codemirror_mode": {
    "name": "ipython",
    "version": 3
   },
   "file_extension": ".py",
   "mimetype": "text/x-python",
   "name": "python",
   "nbconvert_exporter": "python",
   "pygments_lexer": "ipython3",
   "version": "3.8.3"
  }
 },
 "nbformat": 4,
 "nbformat_minor": 4
}
