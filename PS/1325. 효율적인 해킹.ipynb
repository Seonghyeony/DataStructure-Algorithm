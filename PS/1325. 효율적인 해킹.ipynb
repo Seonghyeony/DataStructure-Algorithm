{
 "cells": [
  {
   "cell_type": "markdown",
   "metadata": {},
   "source": [
    "## 1325. 효율적인 해킹"
   ]
  },
  {
   "cell_type": "markdown",
   "metadata": {},
   "source": [
    "- 유형: DFS, BFS\n",
    "- 난이도: Easy"
   ]
  },
  {
   "cell_type": "markdown",
   "metadata": {},
   "source": [
    "## 내가 한 풀이 - 성공!!!!"
   ]
  },
  {
   "cell_type": "code",
   "execution_count": 16,
   "metadata": {},
   "outputs": [
    {
     "name": "stdout",
     "output_type": "stream",
     "text": [
      "5 4\n",
      "3 1\n",
      "3 2\n",
      "4 3\n",
      "5 3\n",
      "[0, 4, 4, 3, 1, 1]\n",
      "1 2 "
     ]
    }
   ],
   "source": [
    "from collections import deque\n",
    "\n",
    "def bfs(visited, start):\n",
    "    need_visit = deque([start])\n",
    "    count = 0\n",
    "    \n",
    "    while need_visit:\n",
    "        node = need_visit.popleft()\n",
    "        if not visited[node]:\n",
    "            visited[node] = True\n",
    "            count += 1\n",
    "            for v in array[node]:\n",
    "                if not visited[v]:\n",
    "                    need_visit.append(v)\n",
    "            \n",
    "    return count\n",
    "\n",
    "n, m = map(int, input().split(' '))\n",
    "\n",
    "array = [[] for _ in range(n + 1)]\n",
    "\n",
    "for i in range(1, m + 1):\n",
    "    x, y = map(int, input().split(' '))\n",
    "    array[y].append(x)\n",
    "    \n",
    "result = [0]\n",
    "\n",
    "for i in range(1, n + 1):\n",
    "    visited = [False] * (n + 1)\n",
    "    result.append(bfs(visited, i))\n",
    "\n",
    "max_value = max(result)\n",
    "\n",
    "for idx, data in enumerate(result):\n",
    "    if data == max_value:\n",
    "        print(idx, end=' ')"
   ]
  },
  {
   "cell_type": "markdown",
   "metadata": {},
   "source": [
    "## 좋은 풀이"
   ]
  },
  {
   "cell_type": "markdown",
   "metadata": {},
   "source": [
    "* 모든 정점에 대하여 DFS 및 BFS를 수행\n",
    "* DFS 혹은 BFS를 수행할 때마다 방문하게 되는 노드의 개수를 계산\n",
    "* 가장 노드의 개수가 크게 되는 시작 정점을 출력"
   ]
  },
  {
   "cell_type": "markdown",
   "metadata": {},
   "source": [
    "### 처리 해야할 정점과 간선의 갯수가 많기 때문에 DFS 보다는 BFS를 선호!!!"
   ]
  },
  {
   "cell_type": "markdown",
   "metadata": {},
   "source": [
    "이번 문제는 내가 한 방법이 더 쉽다."
   ]
  },
  {
   "cell_type": "code",
   "execution_count": null,
   "metadata": {},
   "outputs": [],
   "source": []
  },
  {
   "cell_type": "code",
   "execution_count": null,
   "metadata": {},
   "outputs": [],
   "source": []
  }
 ],
 "metadata": {
  "kernelspec": {
   "display_name": "Python 3",
   "language": "python",
   "name": "python3"
  }
 },
 "nbformat": 4,
 "nbformat_minor": 4
}
