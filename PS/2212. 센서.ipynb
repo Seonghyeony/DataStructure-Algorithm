{
 "cells": [
  {
   "cell_type": "markdown",
   "metadata": {},
   "source": [
    "## 2212. 센서"
   ]
  },
  {
   "cell_type": "markdown",
   "metadata": {},
   "source": [
    "- 유형: 그리디\n",
    "- 난이도: 하 30분"
   ]
  },
  {
   "cell_type": "markdown",
   "metadata": {},
   "source": [
    "## 내가 한 풀이 - 실패ㅠ => 문제 이해 불가"
   ]
  },
  {
   "cell_type": "code",
   "execution_count": 12,
   "metadata": {},
   "outputs": [
    {
     "name": "stdout",
     "output_type": "stream",
     "text": [
      "6\n",
      "3\n",
      "1 6 9 3 6 7\n",
      "4\n"
     ]
    }
   ],
   "source": [
    "import math\n",
    "\n",
    "n = int(input())\n",
    "k = int(input())\n",
    "pos = list(map(int, input().split()))\n",
    "\n",
    "pos.sort()\n",
    "\n",
    "result = math.ceil((pos[-1] - pos[0]) / k) + 1\n",
    "\n",
    "print(result)"
   ]
  },
  {
   "cell_type": "code",
   "execution_count": null,
   "metadata": {},
   "outputs": [],
   "source": []
  },
  {
   "cell_type": "markdown",
   "metadata": {},
   "source": [
    "## 좋은 풀이"
   ]
  },
  {
   "cell_type": "markdown",
   "metadata": {},
   "source": [
    "* 최대 K개의 집중국을 설치해야 한다.\n",
    "* 집중국들의 수신 가능 영역의 길이의 합을 최소화 하는 것이 목표\n",
    "* 사실상 정렬만 수행하면 되므로 O(NlogN)으로 문제를 해결 가능"
   ]
  },
  {
   "cell_type": "markdown",
   "metadata": {},
   "source": [
    "> 문제의 요구사항은, 정렬된 센서들을 최대 K개의 영역으로 나누는 것과 동일"
   ]
  },
  {
   "cell_type": "markdown",
   "metadata": {},
   "source": [
    "* 따라서, 문제의 알고리즘은 다음과 같다.\n",
    ">\n",
    "    - 각 센서를 오름차순 정렬.\n",
    "    - 각 센서 사이의 거리를 계산\n",
    "    - 가장 거리가 먼 순서대로 K - 1개의 연결 고리를 제거"
   ]
  },
  {
   "cell_type": "code",
   "execution_count": 13,
   "metadata": {},
   "outputs": [
    {
     "name": "stdout",
     "output_type": "stream",
     "text": [
      "6\n",
      "2\n",
      "1 6 9 3 6 7\n",
      "5\n"
     ]
    }
   ],
   "source": [
    "import sys\n",
    "\n",
    "n = int(input())\n",
    "k = int(input())\n",
    "\n",
    "# 집중국의 개수가 n 이상일 때\n",
    "if k >= n:\n",
    "    print(0) # 각 센서의 위치에 설치하면 되므로 정답은 0\n",
    "    sys.exit()\n",
    "    \n",
    "# 모든 센서의 위치를 입력 받아 오름차순 정렬\n",
    "array = list(map(int, input().split()))\n",
    "array.sort()\n",
    "\n",
    "# 각 센서 간의 거리를 계산하여 내림차순 정렬\n",
    "distances = []\n",
    "for i in range(1, n):\n",
    "    distances.append(array[i] - array[i - 1])\n",
    "distances.sort(reverse=True)\n",
    "\n",
    "# 가장 긴 거리부터 하나씩 제거\n",
    "for i in range(k - 1):\n",
    "    distances[i] = 0\n",
    "print(sum(distances))"
   ]
  },
  {
   "cell_type": "code",
   "execution_count": null,
   "metadata": {},
   "outputs": [],
   "source": []
  },
  {
   "cell_type": "code",
   "execution_count": null,
   "metadata": {},
   "outputs": [],
   "source": []
  }
 ],
 "metadata": {
  "kernelspec": {
   "display_name": "Python 3",
   "language": "python",
   "name": "python3"
  },
  "language_info": {
   "codemirror_mode": {
    "name": "ipython",
    "version": 3
   },
   "file_extension": ".py",
   "mimetype": "text/x-python",
   "name": "python",
   "nbconvert_exporter": "python",
   "pygments_lexer": "ipython3",
   "version": "3.7.7"
  }
 },
 "nbformat": 4,
 "nbformat_minor": 4
}
