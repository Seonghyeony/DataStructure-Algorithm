{
 "cells": [
  {
   "cell_type": "markdown",
   "metadata": {},
   "source": [
    "## 11053. 가장 긴 증가하는 부분 수열"
   ]
  },
  {
   "cell_type": "markdown",
   "metadata": {},
   "source": [
    "- 유형: DP, LIS(Longest Increasing Subsequence)\n",
    "- 난이도: Easy"
   ]
  },
  {
   "cell_type": "markdown",
   "metadata": {},
   "source": [
    "## 내가 한 풀이 - 둘 다 실패ㅠ..."
   ]
  },
  {
   "cell_type": "code",
   "execution_count": 17,
   "metadata": {},
   "outputs": [
    {
     "name": "stdout",
     "output_type": "stream",
     "text": [
      "8\n",
      "7 8 9 2 3 4 5 6\n",
      "5\n"
     ]
    }
   ],
   "source": [
    "def lis(array, start):\n",
    "    if start == len(array) - 1:\n",
    "        return 1\n",
    "    \n",
    "    temp = []\n",
    "    \n",
    "    for index in range(start, len(array)):\n",
    "        if index == start:\n",
    "            temp.append(array[index])\n",
    "        else:\n",
    "            if max(temp) < array[index]:\n",
    "                temp.append(array[index])\n",
    "                \n",
    "    return max(len(temp), lis(array, start + 1))\n",
    "    \n",
    "\n",
    "n = int(input())\n",
    "\n",
    "array = list(map(int, input().split(' ')))\n",
    "\n",
    "result = lis(array, 0)\n",
    "\n",
    "print(result)\n"
   ]
  },
  {
   "cell_type": "code",
   "execution_count": 40,
   "metadata": {},
   "outputs": [
    {
     "name": "stdout",
     "output_type": "stream",
     "text": [
      "6\n",
      "10 20 10 30 20 50\n",
      "4\n"
     ]
    }
   ],
   "source": [
    "n = int(input())\n",
    "\n",
    "dp = []\n",
    "\n",
    "array = list(map(int, input().split(' ')))\n",
    "\n",
    "result = 0\n",
    "\n",
    "for index in range(n):\n",
    "    if len(dp) == 0:\n",
    "        dp.append([array[index]])\n",
    "        result = 1\n",
    "        continue\n",
    "    \n",
    "    flag = True\n",
    "    \n",
    "    for data in dp:\n",
    "        if max(data) < array[index]:\n",
    "            data.append(array[index])\n",
    "            result = max(result, len(data))\n",
    "            flag = False\n",
    "            \n",
    "    if flag:\n",
    "        dp.append([array[index]])\n",
    "        \n",
    "print(result)"
   ]
  },
  {
   "cell_type": "code",
   "execution_count": null,
   "metadata": {},
   "outputs": [],
   "source": []
  },
  {
   "cell_type": "markdown",
   "metadata": {},
   "source": [
    "## 좋은 풀이"
   ]
  },
  {
   "cell_type": "markdown",
   "metadata": {},
   "source": [
    "* 전형적인 DP 문제이다\n",
    "* 기본적인 DP 알고리즘으로 O(N^2)에 해결 가능"
   ]
  },
  {
   "cell_type": "markdown",
   "metadata": {},
   "source": [
    "> D[i] = array[i]를 마지막 원소로 가지는 부분 수열의 최대 길이\n",
    "\n",
    "> 모든 0 <= j < i 에 대해, D[i] = max(D[i], D[j] + 1) if array[j] < array[i]"
   ]
  },
  {
   "cell_type": "code",
   "execution_count": 41,
   "metadata": {},
   "outputs": [
    {
     "name": "stdout",
     "output_type": "stream",
     "text": [
      "6\n",
      "10 20 10 30 20 60\n",
      "4\n"
     ]
    }
   ],
   "source": [
    "n = int(input())\n",
    "array = list(map(int, input().split(' ')))\n",
    "dp = [1] * n\n",
    "\n",
    "for i in range(1, n):\n",
    "    for j in range(0, i):\n",
    "        if array[j] < array[i]:\n",
    "            dp[i] = max(dp[i], dp[j] + 1)\n",
    "            \n",
    "print(max(dp))"
   ]
  },
  {
   "cell_type": "code",
   "execution_count": null,
   "metadata": {},
   "outputs": [],
   "source": []
  },
  {
   "cell_type": "code",
   "execution_count": null,
   "metadata": {},
   "outputs": [],
   "source": []
  }
 ],
 "metadata": {
  "kernelspec": {
   "display_name": "Python 3",
   "language": "python",
   "name": "python3"
  },
  "language_info": {
   "codemirror_mode": {
    "name": "ipython",
    "version": 3
   },
   "file_extension": ".py",
   "mimetype": "text/x-python",
   "name": "python",
   "nbconvert_exporter": "python",
   "pygments_lexer": "ipython3",
   "version": "3.7.7"
  }
 },
 "nbformat": 4,
 "nbformat_minor": 4
}
