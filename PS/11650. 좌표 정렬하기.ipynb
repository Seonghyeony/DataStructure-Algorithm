{
 "cells": [
  {
   "cell_type": "markdown",
   "metadata": {},
   "source": [
    "## 11650. 좌표 정렬하기"
   ]
  },
  {
   "cell_type": "markdown",
   "metadata": {},
   "source": [
    "- 유형: 정렬\n",
    "- 난이도: Easy"
   ]
  },
  {
   "cell_type": "markdown",
   "metadata": {},
   "source": [
    "## 내가 한 풀이 - 성공!"
   ]
  },
  {
   "cell_type": "markdown",
   "metadata": {},
   "source": [
    "- 다중 조건으로 정렬을 하는 방법\n",
    "\n",
    "> sorted(array, key=lambda x: (x[0], x[1])\n",
    "\n",
    "> 여기서 x: (x[0], -x[1]) 같이 - 를 붙이면 현재 정렬차순과 반대로 한다."
   ]
  },
  {
   "cell_type": "code",
   "execution_count": 12,
   "metadata": {},
   "outputs": [
    {
     "name": "stdout",
     "output_type": "stream",
     "text": [
      "3\n",
      "3 4\n",
      "1 1\n",
      "1 -1\n",
      "1 -1\n",
      "1 1\n",
      "3 4\n"
     ]
    }
   ],
   "source": [
    "test_case = int(input())\n",
    "array = []\n",
    "\n",
    "for _ in range(test_case):\n",
    "    input_data = list(map(int, input().split(' ')))\n",
    "    array.append(input_data)\n",
    "    \n",
    "array = sorted(array, key=lambda x: (x[0], x[1]))\n",
    "\n",
    "for data in array:\n",
    "    print(data[0], data[1])"
   ]
  },
  {
   "cell_type": "code",
   "execution_count": null,
   "metadata": {},
   "outputs": [],
   "source": []
  },
  {
   "cell_type": "markdown",
   "metadata": {},
   "source": [
    "## 좋은 풀이"
   ]
  },
  {
   "cell_type": "markdown",
   "metadata": {},
   "source": [
    "- 파이썬의 기본 정렬 라이브러리는 기본적으로 튜플의 인덱스 순서대로 오름차순 정렬을 한다.\n",
    "> 따라서 단순히 기본 정렬 라이브러리를 이용하면 된다. (key 속성 설정 없이)"
   ]
  },
  {
   "cell_type": "code",
   "execution_count": null,
   "metadata": {},
   "outputs": [],
   "source": [
    "test_case = int(input())\n",
    "array = []\n",
    "\n",
    "for _ in range(test_case):\n",
    "    input_data = list(map(int, input().split(' ')))\n",
    "    array.append(input_data)\n",
    "    \n",
    "array = sorted(array)\n",
    "\n",
    "for data in array:\n",
    "    print(data[0], data[1])    "
   ]
  },
  {
   "cell_type": "code",
   "execution_count": null,
   "metadata": {},
   "outputs": [],
   "source": []
  },
  {
   "cell_type": "code",
   "execution_count": null,
   "metadata": {},
   "outputs": [],
   "source": []
  }
 ],
 "metadata": {
  "kernelspec": {
   "display_name": "Python 3",
   "language": "python",
   "name": "python3"
  },
  "language_info": {
   "codemirror_mode": {
    "name": "ipython",
    "version": 3
   },
   "file_extension": ".py",
   "mimetype": "text/x-python",
   "name": "python",
   "nbconvert_exporter": "python",
   "pygments_lexer": "ipython3",
   "version": "3.7.7"
  }
 },
 "nbformat": 4,
 "nbformat_minor": 4
}
