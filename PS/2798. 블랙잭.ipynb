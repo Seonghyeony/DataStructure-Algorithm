{
 "cells": [
  {
   "cell_type": "markdown",
   "metadata": {},
   "source": [
    "## 2798. 블랙잭"
   ]
  },
  {
   "cell_type": "markdown",
   "metadata": {},
   "source": [
    "- 배열, 완전 탐색\n",
    "- 난이도: Easy"
   ]
  },
  {
   "cell_type": "markdown",
   "metadata": {},
   "source": [
    "## 내가 한 풀이 - 40분 안에 실패 - 다시 고침"
   ]
  },
  {
   "cell_type": "code",
   "execution_count": 3,
   "metadata": {},
   "outputs": [
    {
     "name": "stdout",
     "output_type": "stream",
     "text": [
      "5 21\n",
      "5 6 7 8 9\n",
      "21\n"
     ]
    }
   ],
   "source": [
    "N, M = map(int, input().split(' '))\n",
    "data = list(map(int, input().split(' ')))\n",
    "ret = 0\n",
    "\n",
    "for pick1 in range(N):\n",
    "    for pick2 in range(pick1 + 1, N):\n",
    "        for pick3 in range(pick2 + 1, N):\n",
    "            sum_data = data[pick1] + data[pick2] + data[pick3]\n",
    "            if data[pick1] + data[pick2] + data[pick3] <= M:\n",
    "                ret = max(ret, data[pick1] + data[pick2] + data[pick3])\n",
    "print(ret)"
   ]
  },
  {
   "cell_type": "markdown",
   "metadata": {},
   "source": [
    "## 좋은 풀이"
   ]
  },
  {
   "cell_type": "markdown",
   "metadata": {},
   "source": [
    "- 파이썬은 1초에 약 2천만 정도의 연산을 수행한다.\n",
    "  * 그래서 1초에 약 백만 정도의 연산은 완전 탐색을 해도 충분히 할 수 있다.\n",
    "- 경우의 수를 따져서 **1초 안에 수행이 가능하다고 판단되면** for 문으로 완전 탐색하여 풀어도 가능하다."
   ]
  },
  {
   "cell_type": "code",
   "execution_count": 1,
   "metadata": {},
   "outputs": [
    {
     "name": "stdout",
     "output_type": "stream",
     "text": [
      "5 21\n",
      "5 6 7 8 9\n",
      "14\n"
     ]
    }
   ],
   "source": [
    "N, M = map(int, input().split(' '))\n",
    "data = list(map(int, input().split(' ')))\n",
    "\n",
    "result = 0\n",
    "length = len(data)\n",
    "\n",
    "for i in range(0, length):\n",
    "    for j in range(i + 1, length):\n",
    "        for k in range(j + 1, length):\n",
    "            sum_value = data[i] + data[j] + data[k]\n",
    "            if sum_value <= M:\n",
    "                result = max(result, sum_value)\n",
    "print(result)"
   ]
  },
  {
   "cell_type": "code",
   "execution_count": null,
   "metadata": {},
   "outputs": [],
   "source": []
  }
 ],
 "metadata": {
  "kernelspec": {
   "display_name": "Python 3",
   "language": "python",
   "name": "python3"
  },
  "language_info": {
   "codemirror_mode": {
    "name": "ipython",
    "version": 3
   },
   "file_extension": ".py",
   "mimetype": "text/x-python",
   "name": "python",
   "nbconvert_exporter": "python",
   "pygments_lexer": "ipython3",
   "version": "3.7.7"
  }
 },
 "nbformat": 4,
 "nbformat_minor": 4
}
