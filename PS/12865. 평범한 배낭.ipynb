{
 "cells": [
  {
   "cell_type": "markdown",
   "metadata": {},
   "source": [
    "## 12865. 평범한 배낭"
   ]
  },
  {
   "cell_type": "markdown",
   "metadata": {},
   "source": [
    "- 유형: DP\n",
    "- 난이도: Easy(살짝 Medium) But. 확실히 알아 놓아야 함."
   ]
  },
  {
   "cell_type": "markdown",
   "metadata": {},
   "source": [
    "## 내가 한 풀이 - 실패ㅠ"
   ]
  },
  {
   "cell_type": "code",
   "execution_count": 13,
   "metadata": {},
   "outputs": [
    {
     "name": "stdout",
     "output_type": "stream",
     "text": [
      "4 7\n",
      "7 15\n",
      "4 8\n",
      "3 6\n",
      "5 12\n",
      "15\n"
     ]
    }
   ],
   "source": [
    "n, k = map(int, input().split(' '))\n",
    "\n",
    "stuff = []\n",
    "\n",
    "for _ in range(n):\n",
    "    input_data = list(map(int, input().split(' ')))\n",
    "    stuff.append(input_data)\n",
    "    \n",
    "stuff = sorted(stuff, key=lambda x: (x[0] / x[1]), reverse=True)\n",
    "\n",
    "total_weight = 0\n",
    "total_value = 0\n",
    "max_value = float('-inf')\n",
    "\n",
    "\n",
    "while stuff:\n",
    "    data = stuff[0]\n",
    "    if tempK - data[0] >= 0:\n",
    "        tempK -= data[0]\n",
    "        total_value += data[1]\n",
    "        stuff.pop(0)  \n",
    "    else:\n",
    "        max_value = max(max_value, total_value)\n",
    "        tempK = k\n",
    "        total_value = 0\n",
    "\n",
    "print(max_value)\n",
    "        "
   ]
  },
  {
   "cell_type": "code",
   "execution_count": null,
   "metadata": {},
   "outputs": [],
   "source": []
  },
  {
   "cell_type": "markdown",
   "metadata": {},
   "source": [
    "## 좋은 풀이"
   ]
  },
  {
   "cell_type": "markdown",
   "metadata": {},
   "source": [
    "### 전부 다 외우다 싶이 할 정도로 친숙하게 문제를 풀 수 있어야 한다."
   ]
  },
  {
   "cell_type": "markdown",
   "metadata": {},
   "source": [
    "* 배낭 문제(Knapsack Problem)으로도 알려져 있는, 전형적인 동적 프로그래밍 문제이다.\n",
    "* 물품의 수가 N, 배낭에 담을 수 있는 무게가 K 이다.\n",
    "* DP를 이용하여 시간 복잡도 O(NK)로 문제를 해결할 수 있다."
   ]
  },
  {
   "cell_type": "markdown",
   "metadata": {},
   "source": [
    "> 핵심아이디어: **모든 무게**에 대하여 최대가치를 저장하기\n",
    "\n",
    "> ex) 무게 = 7 이면, 0 ~ 7 까지 최대 가치를 모두 저장. => O(NK)"
   ]
  },
  {
   "cell_type": "markdown",
   "metadata": {},
   "source": [
    "> D[i][j] = 배낭에 넣은 물품의 무게 합이 j일 때 얻을 수 있는 최대 가치\n",
    "\n",
    "> 점화식 **D[i][j]** = \n",
    ">> * **D[i][j] = D[i-1][j]**, if j < W[i]\n",
    ">> * **max(D[i-1][j], D[i-1][j-W[i]] + V[i])** if j >= W[i]"
   ]
  },
  {
   "cell_type": "code",
   "execution_count": 14,
   "metadata": {},
   "outputs": [
    {
     "name": "stdout",
     "output_type": "stream",
     "text": [
      "4 7\n",
      "6 13\n",
      "4 8\n",
      "3 6\n",
      "5 12\n",
      "14\n"
     ]
    }
   ],
   "source": [
    "n, k = map(int, input().split(' '))\n",
    "dp = [[0] * (k + 1) for _ in range(n + 1)]\n",
    "\n",
    "for i in range(1, n + 1):\n",
    "    weight, value = map(int, input().split(' '))\n",
    "    for j in range(1, k + 1):\n",
    "        if j < weight:\n",
    "            dp[i][j] = dp[i - 1][j]\n",
    "        else:\n",
    "            dp[i][j] = max(dp[i - 1][j], dp[i - 1][j - weight] + value)\n",
    "\n",
    "print(dp[n][k])"
   ]
  },
  {
   "cell_type": "code",
   "execution_count": null,
   "metadata": {},
   "outputs": [],
   "source": []
  },
  {
   "cell_type": "code",
   "execution_count": null,
   "metadata": {},
   "outputs": [],
   "source": []
  }
 ],
 "metadata": {
  "kernelspec": {
   "display_name": "Python 3",
   "language": "python",
   "name": "python3"
  },
  "language_info": {
   "codemirror_mode": {
    "name": "ipython",
    "version": 3
   },
   "file_extension": ".py",
   "mimetype": "text/x-python",
   "name": "python",
   "nbconvert_exporter": "python",
   "pygments_lexer": "ipython3",
   "version": "3.7.7"
  }
 },
 "nbformat": 4,
 "nbformat_minor": 4
}
