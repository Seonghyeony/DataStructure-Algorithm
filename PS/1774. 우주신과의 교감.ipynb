{
 "cells": [
  {
   "cell_type": "markdown",
   "metadata": {},
   "source": [
    "## 1774. 우주신과의 교감"
   ]
  },
  {
   "cell_type": "markdown",
   "metadata": {},
   "source": [
    "- 유형: 최소 신장 트리\n",
    "- 난이도: Medium 40분"
   ]
  },
  {
   "cell_type": "markdown",
   "metadata": {},
   "source": [
    "## 내가 한 풀이 - 실패 => 집중 불가."
   ]
  },
  {
   "cell_type": "code",
   "execution_count": 9,
   "metadata": {},
   "outputs": [
    {
     "name": "stdout",
     "output_type": "stream",
     "text": [
      "4 1\n",
      "1 1\n",
      "3 1\n",
      "2 3\n",
      "4 3\n",
      "1 4\n"
     ]
    }
   ],
   "source": [
    "n, m = map(int, input().split())\n",
    "\n",
    "vertices = [[] for _ in range(n + 1)]\n",
    "connected_edge = list()\n",
    "\n",
    "for i in range(1, n + 1):\n",
    "    x, y = map(int, input().split())\n",
    "    vertices[i].append((x, y))\n",
    "    \n",
    "for _ in range(m):\n",
    "    x, y = map(int, input().split())\n",
    "    edge.append((x, y))"
   ]
  },
  {
   "cell_type": "code",
   "execution_count": 11,
   "metadata": {},
   "outputs": [
    {
     "data": {
      "text/plain": [
       "10"
      ]
     },
     "execution_count": 11,
     "metadata": {},
     "output_type": "execute_result"
    }
   ],
   "source": [
    "i = 1\n",
    "\n",
    "for index in range(3, 6):\n",
    "    i = i + (index - 1)\n",
    "\n",
    "i"
   ]
  },
  {
   "cell_type": "markdown",
   "metadata": {},
   "source": [
    "## 좋은 풀이"
   ]
  },
  {
   "cell_type": "markdown",
   "metadata": {},
   "source": [
    "* 2차원 좌표가 주어졌을 때, 모든 좌표를 잇는 최소 신장 트리를 만들어야함.\n",
    "* 따라서 2차원 좌표 상의 점을 잇는 통로들을 고려해야 함.\n",
    "* 정점의 개수 N이 최대 1,000이므로, 가능한 통로의 개수는 약 N^2 개다.\n",
    "> 무방향 그래프에서 **최대 간선의 개수**는 n(n-1)/2 개 .... 방향 그래프에서는 n(n-1) 개 이다.\n",
    "* 크루스칼 알고리즘은 간선의 개수가 E 일 때, O(ElogE)의 시간 복잡도를 가진다.\n",
    "* 크루스칼 알고리즘으로 해결 가능하다."
   ]
  },
  {
   "cell_type": "code",
   "execution_count": 22,
   "metadata": {},
   "outputs": [
    {
     "name": "stdout",
     "output_type": "stream",
     "text": [
      "4 1\n",
      "1 1\n",
      "3 1\n",
      "2 3\n",
      "4 3\n",
      "1 4\n",
      "4.00\n"
     ]
    }
   ],
   "source": [
    "import math\n",
    "\n",
    "# 두 좌표간 거리 계산\n",
    "def get_distance(p1, p2):\n",
    "    a = p1[0] - p2[0]\n",
    "    b = p1[1] - p2[1]\n",
    "    return math.sqrt((a * a) + (b * b))\n",
    "\n",
    "def find(parent, node):\n",
    "    # path compression 기법\n",
    "    if parent[node] != node:\n",
    "        parent[node] = find(parent, parent[node])\n",
    "    return parent[node]\n",
    "\n",
    "def union(parent, rank, node_v, node_u):\n",
    "    root1 = find(parent, node_v)\n",
    "    root2 = find(parent, node_u)\n",
    "    \n",
    "    # union-by-rank 기법\n",
    "    if rank[root1] > rank[root2]:\n",
    "        parent[root2] = root1\n",
    "    else:\n",
    "        parent[root1] = root2\n",
    "        if rank[root1] == rank[root2]:\n",
    "            rank[root2] += 1\n",
    "            \n",
    "\n",
    "edges = []\n",
    "parent = {}\n",
    "rank = {}\n",
    "locations = []\n",
    "\n",
    "n, m = map(int, input().split())\n",
    "\n",
    "for _ in range(n):\n",
    "    x, y = map(int, input().split())\n",
    "    locations.append((x, y))\n",
    "    \n",
    "length = len(locations)\n",
    "\n",
    "# 모든 간선 셋팅\n",
    "for i in range(length - 1):\n",
    "    for j in range(i + 1, length):\n",
    "        # ex) ('a', 'b', distance)\n",
    "        edges.append((i + 1, j + 1, get_distance(locations[i], locations[j])))\n",
    "\n",
    "# 부모 초기화(make_set)\n",
    "for i in range(1, n + 1):\n",
    "    parent[i] = i\n",
    "    rank[i] = 0\n",
    "\n",
    "# 이미 연결되어 있는 것들 연결\n",
    "for i in range(m):\n",
    "    a, b = map(int, input().split())\n",
    "    union(parent, rank, a, b)\n",
    "\n",
    "# 간선 가중치 별로 정렬\n",
    "edges.sort(key=lambda x: x[2])\n",
    "\n",
    "result = 0\n",
    "for a, b, cost in edges:\n",
    "    if find(parent, a) != find(parent, b):\n",
    "        union(parent, rank, a, b)\n",
    "        result += cost\n",
    "\n",
    "# 소수점 둘째 자리까지\n",
    "print(\"%0.2f\" % result)\n",
    "\n"
   ]
  },
  {
   "cell_type": "markdown",
   "metadata": {},
   "source": []
  },
  {
   "cell_type": "code",
   "execution_count": null,
   "metadata": {},
   "outputs": [],
   "source": []
  }
 ],
 "metadata": {
  "kernelspec": {
   "display_name": "Python 3",
   "language": "python",
   "name": "python3"
  },
  "language_info": {
   "codemirror_mode": {
    "name": "ipython",
    "version": 3
   },
   "file_extension": ".py",
   "mimetype": "text/x-python",
   "name": "python",
   "nbconvert_exporter": "python",
   "pygments_lexer": "ipython3",
   "version": "3.7.7"
  }
 },
 "nbformat": 4,
 "nbformat_minor": 4
}
