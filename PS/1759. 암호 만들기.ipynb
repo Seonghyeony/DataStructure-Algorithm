{
 "cells": [
  {
   "cell_type": "markdown",
   "metadata": {},
   "source": [
    "## 1759. 암호 만들기"
   ]
  },
  {
   "cell_type": "markdown",
   "metadata": {},
   "source": [
    "- 유형: 백트래킹\n",
    "- 난이도: 중 30분"
   ]
  },
  {
   "cell_type": "markdown",
   "metadata": {},
   "source": [
    "## 내가 한 풀이 - 실패ㅠ..."
   ]
  },
  {
   "cell_type": "code",
   "execution_count": 15,
   "metadata": {},
   "outputs": [
    {
     "name": "stdout",
     "output_type": "stream",
     "text": [
      "4 6\n",
      "a t c i s w\n",
      "['a', 'c', 'i', 's', 't', 'w']\n"
     ]
    }
   ],
   "source": [
    "l, c = map(int, input().split())\n",
    "array = list(input().split())\n",
    "\n",
    "array.sort()\n",
    "print(array)"
   ]
  },
  {
   "cell_type": "code",
   "execution_count": 35,
   "metadata": {},
   "outputs": [
    {
     "name": "stdout",
     "output_type": "stream",
     "text": [
      "[['a', 'c', 'i', 's'], ['a', 'c', 'i', 't'], ['a', 'c', 'i', 'w'], ['a', 'c', 'i', 's', 't'], ['a', 'c', 'i', 's', 'w'], ['a', 'c', 'i', 's', 't', 'w']]\n"
     ]
    }
   ],
   "source": [
    "def check(current_data, candidate):\n",
    "    vowel = 0\n",
    "    consonant = 0\n",
    "    \n",
    "    if len(candidate) <= l:\n",
    "        return True\n",
    "    \n",
    "    for data in candidate:\n",
    "        if data in vowel_list:\n",
    "            vowel += 1\n",
    "        else:\n",
    "            consonant += 1\n",
    "            \n",
    "    if vowel >= 1 and consonant >= 2:\n",
    "        return True\n",
    "    else:\n",
    "        return False\n",
    "    \n",
    "    \n",
    "\n",
    "def solve(n, candidate):\n",
    "    global result\n",
    "    if n == l:\n",
    "        candidate.sort()\n",
    "        result.append(candidate[:])\n",
    "        return\n",
    "    \n",
    "    for i in range(len(array)):\n",
    "        if check(array[i], candidate):\n",
    "            solve(n + 1, candidate)\n",
    "            candidate.pop()\n",
    "        \n",
    "vowel_list = ['a', 'e', 'i', 'o', 'u']\n",
    "result = []\n",
    "solve(0, [])\n",
    "print(result)"
   ]
  },
  {
   "cell_type": "markdown",
   "metadata": {},
   "source": [
    "## 좋은 풀이"
   ]
  },
  {
   "cell_type": "markdown",
   "metadata": {},
   "source": [
    "* C개의 문자들 중에서 L개를 선택하는 모든 조합을 고려해야 합니다\n",
    "* Python의 조합(combinations) 라이브러리를 사용하면 간단히 해결할 수 있다\n",
    "* 혹은 DFS를 이용하여 조합 함수를 구현할 수 있습니다"
   ]
  },
  {
   "cell_type": "code",
   "execution_count": 39,
   "metadata": {},
   "outputs": [
    {
     "name": "stdout",
     "output_type": "stream",
     "text": [
      "4 6\n",
      "a t c i s w\n",
      "acis\n",
      "acit\n",
      "aciw\n",
      "acst\n",
      "acsw\n",
      "actw\n",
      "aist\n",
      "aisw\n",
      "aitw\n",
      "astw\n",
      "cist\n",
      "cisw\n",
      "citw\n",
      "istw\n"
     ]
    }
   ],
   "source": [
    "# 1. 조합(combinations) 라이브러리를 사용.\n",
    "from itertools import combinations\n",
    "\n",
    "vowels = ['a', 'e', 'i', 'o', 'u']\n",
    "l, c = map(int, input().split())\n",
    "\n",
    "array = input().split(' ')\n",
    "array.sort()\n",
    "\n",
    "# 길이가 l인 모든 암호 조합을 확인\n",
    "for password in combinations(array, l):\n",
    "    # 모음의 개수를 세기\n",
    "    count = 0\n",
    "    for i in password:\n",
    "        if i in vowels:\n",
    "            count += 1\n",
    "            \n",
    "    # 최소 한 개의 모음과 최소 두 개의 자음이 있는 경우 출력\n",
    "    if count >= 1 and count <= l - 2:\n",
    "        print(''.join(password))"
   ]
  },
  {
   "cell_type": "code",
   "execution_count": 40,
   "metadata": {},
   "outputs": [
    {
     "name": "stdout",
     "output_type": "stream",
     "text": [
      "4 6\n",
      "a t c i s w\n",
      "acis\n",
      "acit\n",
      "aciw\n",
      "acst\n",
      "acsw\n",
      "actw\n",
      "aist\n",
      "aisw\n",
      "aitw\n",
      "astw\n",
      "cist\n",
      "cisw\n",
      "citw\n",
      "istw\n"
     ]
    }
   ],
   "source": [
    "# 2. DFS를 이용한 조합 함수 구현\n",
    "\n",
    "import copy\n",
    "\n",
    "result = []\n",
    "string = []\n",
    "visited = []\n",
    "\n",
    "def combination(array, length, index):\n",
    "    # 길이가 length인 모든 조합 찾기\n",
    "    if len(string) == length:\n",
    "        result.append(copy.deepcopy(string))\n",
    "        return\n",
    "    \n",
    "    # 각 원소를 한 번씩만 뽑도록 구성\n",
    "    for i in range(index, len(array)):\n",
    "        if i in visited:\n",
    "            continue\n",
    "        \n",
    "        string.append(array[i])\n",
    "        visited.append(i)\n",
    "        combination(array, length, i + 1)\n",
    "        string.pop()\n",
    "        visited.pop()\n",
    "\n",
    "vowels = ('a', 'e', 'i', 'o', 'u')\n",
    "l, c = map(int, input().split())\n",
    "\n",
    "array = input().split(' ')\n",
    "array.sort()\n",
    "\n",
    "combination(array, l, 0)\n",
    "\n",
    "for password in result:\n",
    "    count = 0\n",
    "    for i in password:\n",
    "        if i in vowels:\n",
    "            count += 1\n",
    "            \n",
    "    if count >= 1 and count <= l - 2:\n",
    "        print(''.join(password))\n"
   ]
  },
  {
   "cell_type": "code",
   "execution_count": null,
   "metadata": {},
   "outputs": [],
   "source": []
  }
 ],
 "metadata": {
  "kernelspec": {
   "display_name": "Python 3",
   "language": "python",
   "name": "python3"
  },
  "language_info": {
   "codemirror_mode": {
    "name": "ipython",
    "version": 3
   },
   "file_extension": ".py",
   "mimetype": "text/x-python",
   "name": "python",
   "nbconvert_exporter": "python",
   "pygments_lexer": "ipython3",
   "version": "3.7.7"
  }
 },
 "nbformat": 4,
 "nbformat_minor": 4
}
