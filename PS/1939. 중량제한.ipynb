{
 "cells": [
  {
   "cell_type": "markdown",
   "metadata": {},
   "source": [
    "## 1939. 중량제한"
   ]
  },
  {
   "cell_type": "markdown",
   "metadata": {},
   "source": [
    "- 유형: 이진탐색\n",
    "- 난이도: 중상(Hard)"
   ]
  },
  {
   "cell_type": "markdown",
   "metadata": {},
   "source": [
    "## 내가 한 풀이 - 실패ㅠ,,,"
   ]
  },
  {
   "cell_type": "code",
   "execution_count": 26,
   "metadata": {},
   "outputs": [
    {
     "name": "stdout",
     "output_type": "stream",
     "text": [
      "3 3\n",
      "1 2 3\n",
      "3 1 2\n",
      "2 3 5\n",
      "1 3\n",
      "2\n"
     ]
    }
   ],
   "source": [
    "import heapq\n",
    "\n",
    "def dijkstra(graph, start):\n",
    "    distances = { node: 0 for node in graph }\n",
    "    distances[start] = 0\n",
    "    queue = []\n",
    "    heapq.heappush(queue, [distances[start], start])\n",
    "    \n",
    "    while queue:\n",
    "        current_distance, current_node = heapq.heappop(queue)\n",
    "        \n",
    "        for adjacent, weight in graph[current_node].items():\n",
    "            if distances[adjacent] == 0:\n",
    "                distances[adjacent] = weight\n",
    "                heapq.heappush(queue, [weight, adjacent])\n",
    "            else:\n",
    "                if weight < distances[adjacent]:\n",
    "                    distances[adjacent] = weight\n",
    "                    heapq.heappush(queue, [weight, adjacent])\n",
    "    return distances\n",
    "        \n",
    "# n 개의 섬, m 개의 다리\n",
    "n, m = map(int, input().split(' '))\n",
    "\n",
    "graph = {}\n",
    "\n",
    "# 다리에 대한 정보\n",
    "for _ in range(m):\n",
    "    a, b, c = map(int, input().split(' '))\n",
    "    graph[a] = { b: c }\n",
    "    graph[b] = { a: c }\n",
    "\n",
    "fac1, fac2 = map(int, input().split(' '))\n",
    "\n",
    "result = dijkstra(graph, fac1)\n",
    "\n",
    "print(result[fac2])\n"
   ]
  },
  {
   "cell_type": "code",
   "execution_count": 13,
   "metadata": {},
   "outputs": [
    {
     "data": {
      "text/plain": [
       "'B'"
      ]
     },
     "execution_count": 13,
     "metadata": {},
     "output_type": "execute_result"
    }
   ],
   "source": [
    "import heapq\n",
    "\n",
    "queue = []\n",
    "\n",
    "heapq.heappush(queue, [5, 'A'])\n",
    "heapq.heappush(queue, [4, 'B'])"
   ]
  },
  {
   "cell_type": "markdown",
   "metadata": {},
   "source": [
    "## 좋은 풀이"
   ]
  },
  {
   "cell_type": "markdown",
   "metadata": {},
   "source": [
    "- 다리의 개수 M은 최대 100,000이며, 중량 제한 C는 최대 1,000,000,000이다.\n",
    "- 이진 탐색을 이용하여 O(M * logC)에 문제를 해결할 수 있다.\n",
    "- 한 번의 이동에서 옮길 수 있는 물품들의 중량의 최댓값을 이진 탐색으로 찾는다.\n",
    "- **한 노드에서 목적 노드까지 이동이 가능한지 알 수 있는 그래프 탐색은 BFS를 사용할 수 있다.**\n",
    "> BFS의 시간 복잡도는 O(M)"
   ]
  },
  {
   "cell_type": "code",
   "execution_count": 60,
   "metadata": {},
   "outputs": [
    {
     "name": "stdout",
     "output_type": "stream",
     "text": [
      "3 3\n",
      "1 2 2\n",
      "3 1 3\n",
      "2 3 2\n",
      "[[], [(2, 2), (3, 3)], [(1, 2), (3, 2)], [(1, 3), (2, 2)]]\n",
      "1 3\n",
      "3\n"
     ]
    }
   ],
   "source": [
    "from collections import deque\n",
    "\n",
    "n, m = map(int, input().split(' '))\n",
    "graph = [[] for _ in range(n + 1)]\n",
    "\n",
    "def bfs(mid):\n",
    "    queue = deque([start_node])\n",
    "    visited = [False] * (n + 1)\n",
    "    visited[start_node] = True\n",
    "    \n",
    "    while queue:\n",
    "        x = queue.popleft()\n",
    "        for y, weight in graph[x]:\n",
    "            if not visited[y] and weight >= mid:\n",
    "                visited[y] = True\n",
    "                queue.append(y)\n",
    "            \n",
    "    return visited[end_node]\n",
    "\n",
    "start = 1000000000\n",
    "end = 1\n",
    "\n",
    "for _ in range(m):\n",
    "    x, y, weight = map(int, input().split(' '))\n",
    "    graph[x].append((y, weight))\n",
    "    graph[y].append((x, weight))\n",
    "    \n",
    "    start = min(start, weight)\n",
    "    end = max(end, weight)\n",
    "\n",
    "start_node, end_node = map(int, input().split(' '))\n",
    "\n",
    "result = start\n",
    "while start <= end:\n",
    "    mid = (start + end) // 2    # mid는 현재 중량\n",
    "    if bfs(mid):\n",
    "        result = mid\n",
    "        start = mid + 1\n",
    "    else:\n",
    "        end = mid - 1\n",
    "\n",
    "print(result)\n"
   ]
  },
  {
   "cell_type": "code",
   "execution_count": 57,
   "metadata": {},
   "outputs": [
    {
     "data": {
      "text/plain": [
       "[False, False, False, False]"
      ]
     },
     "execution_count": 57,
     "metadata": {},
     "output_type": "execute_result"
    }
   ],
   "source": [
    "visited = [False] * 4\n",
    "visited"
   ]
  },
  {
   "cell_type": "code",
   "execution_count": 46,
   "metadata": {},
   "outputs": [
    {
     "data": {
      "text/plain": [
       "(2, 2)"
      ]
     },
     "execution_count": 46,
     "metadata": {},
     "output_type": "execute_result"
    }
   ],
   "source": [
    "dic[1]"
   ]
  },
  {
   "cell_type": "code",
   "execution_count": null,
   "metadata": {},
   "outputs": [],
   "source": []
  }
 ],
 "metadata": {
  "kernelspec": {
   "display_name": "Python 3",
   "language": "python",
   "name": "python3"
  },
  "language_info": {
   "codemirror_mode": {
    "name": "ipython",
    "version": 3
   },
   "file_extension": ".py",
   "mimetype": "text/x-python",
   "name": "python",
   "nbconvert_exporter": "python",
   "pygments_lexer": "ipython3",
   "version": "3.7.7"
  }
 },
 "nbformat": 4,
 "nbformat_minor": 4
}
